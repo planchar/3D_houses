{
 "cells": [
  {
   "cell_type": "markdown",
   "id": "monthly-cambridge",
   "metadata": {},
   "source": [
    "# Plotting a house in 3D"
   ]
  },
  {
   "cell_type": "markdown",
   "id": "heard-flower",
   "metadata": {},
   "source": [
    "The goal of this notebook is to let and end user generate a 3D plot of the house or building on a specified address within Flanders, Belgium. The main dataset being used to do this is publicly available, and originates from a governmental project called [DHMV II](https://overheid.vlaanderen.be/dhm-digitaal-hoogtemodel-vlaanderen-ii) to update the [Digital Elevation Model](https://en.wikipedia.org/wiki/Digital_elevation_model) of Flanders between 2013 and 2015."
   ]
  },
  {
   "cell_type": "markdown",
   "id": "flexible-planning",
   "metadata": {},
   "source": [
    "**Usage hint for this notebook: select the `Cell` menu, then `Run All`.**"
   ]
  },
  {
   "cell_type": "markdown",
   "id": "conventional-finnish",
   "metadata": {},
   "source": [
    "## Background"
   ]
  },
  {
   "cell_type": "markdown",
   "id": "magnetic-preliminary",
   "metadata": {},
   "source": [
    "The Flemish government provides a variety of elevation-related datasets within the DHMV II, and multiple ways to access them. Datasets are categorized in:\n",
    "* [Source data](https://overheid.vlaanderen.be/dhm-dhmv-ii-brondata)\n",
    "* [Standard products](https://overheid.vlaanderen.be/dhm-dhmv-ii-standaard-producten)\n",
    "* [Test data](https://overheid.vlaanderen.be/DHM-DHMV-II-testdata)"
   ]
  },
  {
   "cell_type": "markdown",
   "id": "flying-fortune",
   "metadata": {},
   "source": [
    "To calculate a Digital Elevation Model (DEM), we want to subtract Digital Terrain Model (DTM) raster data from Digital Surface Model (DSM) raster data. \n",
    "\n",
    "Within the *standard products* and *test data* categories, there are DSM and DTM raster datasets with a resolution of 1m or 5m per pixel. We will work with the 1m datasets.\n",
    "\n",
    "According to [the documentation](https://overheid.vlaanderen.be/dhm-dhmv-ii-standaard-producten), the DSM and DTM raster datasets with a 1m resolution are available:\n",
    "* to view on a height map at [Geopunt](http://www.geopunt.be/)\n",
    "* to use via a [Web Map Service (WMS)](https://en.wikipedia.org/wiki/Web_Map_Service)\n",
    "* to download"
   ]
  },
  {
   "cell_type": "markdown",
   "id": "bulgarian-objective",
   "metadata": {},
   "source": [
    "Currently, the notebook works with manually downloaded files. (See [further](#Build-a-height-model))"
   ]
  },
  {
   "cell_type": "markdown",
   "id": "indonesian-earth",
   "metadata": {},
   "source": [
    "## Import the necessary modules"
   ]
  },
  {
   "cell_type": "code",
   "execution_count": 89,
   "id": "attached-basics",
   "metadata": {},
   "outputs": [],
   "source": [
    "import pandas as pd\n",
    "import plotly.graph_objects as go\n",
    "import rasterio\n",
    "import rasterio.plot\n",
    "from rasterio.plot import show\n",
    "import requests"
   ]
  },
  {
   "cell_type": "markdown",
   "id": "agricultural-version",
   "metadata": {},
   "source": [
    "## Location of the building"
   ]
  },
  {
   "cell_type": "markdown",
   "id": "federal-naples",
   "metadata": {},
   "source": [
    "We'll use an API to get coordinates for an address first. The API's documentation can be found [here](http://loc.geopunt.be/)."
   ]
  },
  {
   "cell_type": "markdown",
   "id": "athletic-brake",
   "metadata": {},
   "source": [
    "### Enter an address"
   ]
  },
  {
   "cell_type": "code",
   "execution_count": 64,
   "id": "formed-booking",
   "metadata": {},
   "outputs": [
    {
     "name": "stdout",
     "output_type": "stream",
     "text": [
      "Please provide the address of the building to plot. The preferred way is to provide zip code, street name and house number of a valid address in Flanders. Your address:Stationsplein 34 9500\n"
     ]
    }
   ],
   "source": [
    "q = input(\"Please provide the address of the building to plot. The preferred way is to provide zip code, street name and house number of a valid address in Flanders. Your address:\")"
   ]
  },
  {
   "cell_type": "markdown",
   "id": "immune-controversy",
   "metadata": {},
   "source": [
    "### Get it's coordinates"
   ]
  },
  {
   "cell_type": "code",
   "execution_count": 65,
   "id": "married-fluid",
   "metadata": {},
   "outputs": [],
   "source": [
    "loc_api_url = \"http://loc.geopunt.be/geolocation/location\"\n",
    "loc_api_params = {\"q\": q}\n",
    "\n",
    "loc_api_req = requests.get(loc_api_url, loc_api_params)"
   ]
  },
  {
   "cell_type": "code",
   "execution_count": 66,
   "id": "attempted-joshua",
   "metadata": {},
   "outputs": [],
   "source": [
    "loc_api_resp = loc_api_req.json()[\"LocationResult\"][0]\n",
    "geoloc = loc_api_resp[\"Location\"]"
   ]
  },
  {
   "cell_type": "code",
   "execution_count": 67,
   "id": "boxed-battle",
   "metadata": {},
   "outputs": [
    {
     "data": {
      "text/plain": [
       "162304.58"
      ]
     },
     "execution_count": 67,
     "metadata": {},
     "output_type": "execute_result"
    }
   ],
   "source": [
    "geoloc[\"Y_Lambert72\"]"
   ]
  },
  {
   "cell_type": "code",
   "execution_count": 68,
   "id": "latter-cooperation",
   "metadata": {},
   "outputs": [
    {
     "data": {
      "text/plain": [
       "{'Municipality': 'Geraardsbergen',\n",
       " 'Zipcode': '9500',\n",
       " 'Thoroughfarename': 'Stationsplein',\n",
       " 'Housenumber': '34',\n",
       " 'ID': 1589943,\n",
       " 'FormattedAddress': 'Stationsplein 34, 9500 Geraardsbergen',\n",
       " 'Location': {'Lat_WGS84': 50.77018540581181,\n",
       "  'Lon_WGS84': 3.8728880497997507,\n",
       "  'X_Lambert72': 115021.85,\n",
       "  'Y_Lambert72': 162304.58},\n",
       " 'LocationType': 'crab_huisnummer_afgeleidVanGebouw',\n",
       " 'BoundingBox': {'LowerLeft': {'Lat_WGS84': 50.77018540581181,\n",
       "   'Lon_WGS84': 3.8728880497997507,\n",
       "   'X_Lambert72': 115021.85,\n",
       "   'Y_Lambert72': 162304.58},\n",
       "  'UpperRight': {'Lat_WGS84': 50.77018540581181,\n",
       "   'Lon_WGS84': 3.8728880497997507,\n",
       "   'X_Lambert72': 115021.85,\n",
       "   'Y_Lambert72': 162304.58}}}"
      ]
     },
     "execution_count": 68,
     "metadata": {},
     "output_type": "execute_result"
    }
   ],
   "source": [
    "loc_api_resp"
   ]
  },
  {
   "cell_type": "code",
   "execution_count": 69,
   "id": "polish-thousand",
   "metadata": {},
   "outputs": [
    {
     "data": {
      "text/plain": [
       "'34'"
      ]
     },
     "execution_count": 69,
     "metadata": {},
     "output_type": "execute_result"
    }
   ],
   "source": [
    "loc_api_resp[\"Housenumber\"]"
   ]
  },
  {
   "cell_type": "markdown",
   "id": "therapeutic-prophet",
   "metadata": {},
   "source": [
    "### Validation checks"
   ]
  },
  {
   "cell_type": "markdown",
   "id": "specific-label",
   "metadata": {},
   "source": [
    "*Currently not implemented. Maybe something for a future release.*"
   ]
  },
  {
   "cell_type": "markdown",
   "id": "welsh-execution",
   "metadata": {},
   "source": [
    "## Shape of the building"
   ]
  },
  {
   "cell_type": "markdown",
   "id": "incorporate-retail",
   "metadata": {},
   "source": [
    "We'll use another API to get the shape of the building."
   ]
  },
  {
   "cell_type": "code",
   "execution_count": 70,
   "id": "divided-business",
   "metadata": {},
   "outputs": [],
   "source": [
    "# Set the base API url\n",
    "br_api_url = \"https://api.basisregisters.vlaanderen.be/v1/\"\n",
    "\n",
    "# First perform an address lookup\n",
    "addr_api_url = br_api_url + \"adresmatch\"\n",
    "addr_api_params = {\"postcode\": loc_api_resp[\"Zipcode\"], \n",
    "                   \"straatnaam\": loc_api_resp[\"Thoroughfarename\"], \n",
    "                   \"huisnummer\": loc_api_resp[\"Housenumber\"]}\n",
    "\n",
    "addr_api_req = requests.get(addr_api_url, addr_api_params)\n",
    "addr_api_resp = addr_api_req.json()"
   ]
  },
  {
   "cell_type": "code",
   "execution_count": 71,
   "id": "varied-johns",
   "metadata": {},
   "outputs": [],
   "source": [
    "# Next perform a building unit (gebouweenheid) lookup\n",
    "gbe_api_url = addr_api_resp[\"adresMatches\"][0][\"adresseerbareObjecten\"][0][\"detail\"]\n",
    "# note that the code above might give errors\n",
    "# it only uses index 0 from lists\n",
    "\n",
    "gbe_api_req = requests.get(gbe_api_url)\n",
    "gbe_api_resp = gbe_api_req.json()"
   ]
  },
  {
   "cell_type": "code",
   "execution_count": 72,
   "id": "italic-client",
   "metadata": {},
   "outputs": [],
   "source": [
    "# Then perform a building (gebouw) lookup\n",
    "gb_api_url = gbe_api_resp[\"gebouw\"][\"detail\"]\n",
    "\n",
    "gb_api_req = requests.get(gb_api_url)\n",
    "gb_api_resp = gb_api_req.json()"
   ]
  },
  {
   "cell_type": "code",
   "execution_count": 73,
   "id": "close-petersburg",
   "metadata": {},
   "outputs": [
    {
     "data": {
      "text/plain": [
       "{'polygon': {'coordinates': [[[115028.02603507787, 162295.834930785],\n",
       "    [115032.02987508476, 162302.00216278806],\n",
       "    [115027.7343230769, 162302.94833879173],\n",
       "    [115029.80702707916, 162311.4679547958],\n",
       "    [115018.06200307608, 162313.9570427984],\n",
       "    [115016.00798707455, 162312.66398679838],\n",
       "    [115011.67403506488, 162300.650034789],\n",
       "    [115027.42891507596, 162294.61579478532],\n",
       "    [115028.02603507787, 162295.834930785]]],\n",
       "  'type': 'Polygon'}}"
      ]
     },
     "execution_count": 73,
     "metadata": {},
     "output_type": "execute_result"
    }
   ],
   "source": [
    "# Finally extract the polygon to get the shape\n",
    "gb_api_resp[\"geometriePolygoon\"]"
   ]
  },
  {
   "cell_type": "markdown",
   "id": "saved-inside",
   "metadata": {},
   "source": [
    "## Build a height model"
   ]
  },
  {
   "cell_type": "markdown",
   "id": "accomplished-locking",
   "metadata": {},
   "source": [
    "### Get the DSM & DTM for the area"
   ]
  },
  {
   "cell_type": "markdown",
   "id": "adult-marketplace",
   "metadata": {},
   "source": [
    "*Note: * the commented code below doesn't work yet. The idea is to use a [WCS](https://en.wikipedia.org/wiki/Web_Coverage_Service) to request DSM and DTM for the location. A working url to download a DTM is [this one](https://inspire.informatievlaanderen.be/overdrachtdiensten/el-dtm/wcs?SERVICE=WCS&VERSION=1.0.0&REQUEST=GetCoverage&CRS=EPSG:4258&BBOX=4.25486589326289,50.7461998135595,4.54180360703703,50.910858515163&WIDTH=1278&HEIGHT=1009&COVERAGE=EL.GridCoverage.DTM&FORMAT=GeoTIFF&RESPONSE_CRS=EPSG:31370). When you click it, a tiff raster gets sent back, proving it's feasible. However, there are some difficulties in modifying the parameters, and the documentation I've found is vague, so I was still looking into it. Due to a lack of time, I had to stop."
   ]
  },
  {
   "cell_type": "code",
   "execution_count": 82,
   "id": "embedded-version",
   "metadata": {},
   "outputs": [],
   "source": [
    "\"\"\"\n",
    "# First calculate a bounding box for the DSM & DTM requests\n",
    "l, r = geoloc[\"Lat_WGS84\"], geoloc[\"Lat_WGS84\"]\n",
    "b, t = geoloc[\"Lon_WGS84\"], geoloc[\"Lon_WGS84\"]\n",
    "\n",
    "bbox = \"{l},{b},{r},{t}\".format(l=l, b=b, r=r, t=t)\n",
    "\"\"\"\n",
    "pass"
   ]
  },
  {
   "cell_type": "code",
   "execution_count": 83,
   "id": "valuable-delivery",
   "metadata": {},
   "outputs": [],
   "source": [
    "\"\"\"\n",
    "# for testing\n",
    "bbox\n",
    "\"\"\"\n",
    "pass"
   ]
  },
  {
   "cell_type": "code",
   "execution_count": 84,
   "id": "current-intermediate",
   "metadata": {},
   "outputs": [],
   "source": [
    "\"\"\"\n",
    "wcs_api_url = \"https://inspire.informatievlaanderen.be/overdrachtdiensten/\"\n",
    "\n",
    "dsm_api_url = wcs_api_url + \"el-dsm/wcs\"\n",
    "dsm_api_params = {\"service\" : \"WCS\",\n",
    "                  \"request\" : \"getcoverage\",\n",
    "                  \"version\": \"1.0.0\",\n",
    "                  \"CRS\": \"EPSG:4326\",\n",
    "                  \"bbox\": bbox,  # to fix: bbox of a point doesn't work\n",
    "                  \"coverage\": \"EL.GridCoverage.DSM\",\n",
    "                  \"format\": \"GeoTIFF\",\n",
    "                  \"response_crs\":\"EPSG:31370\",\n",
    "                  \"width\":200,  # how do we get the right value here?\n",
    "                  \"height\":200}  # and here?\n",
    "\n",
    "dtm_api_url = wcs_api_url + \"el-dtm/wcs\"\n",
    "dtm_api_params = {}  # todo\n",
    "\"\"\"\n",
    "pass"
   ]
  },
  {
   "cell_type": "markdown",
   "id": "confidential-fields",
   "metadata": {},
   "source": [
    "Because the code above doesn't work yet, I only worked with a small downloaded DSM and DTM dataset. This can be found here:\n",
    "* [DSM](https://downloadagiv.blob.core.windows.net/dhm-vlaanderen-ii-dsm-raster-1m-testdata/Digitaal_Hoogtemodel_Vlaanderen+II_DSM_raster_1m_testdata.zip)\n",
    "* [DTM](https://downloadagiv.blob.core.windows.net/dhm-vlaanderen-ii-dtm-raster-1m-testdata/Digitaal_Hoogtemodel_Vlaanderen+II_DTM_raster_1m_testdata.zip)\n",
    "\n",
    "Alternatively the complete 43 DSM / DTM files can be found here:\n",
    "* [all DSM's](http://www.geopunt.be/download?container=dhm-vlaanderen-ii-dsm-raster-1m&title=Digitaal%20Hoogtemodel%20Vlaanderen%20II,%20DSM,%20raster,%201m)\n",
    "* [all DTM's](http://www.geopunt.be/download?container=dhm-vlaanderen-ii-dtm-raster-1m&title=Digitaal%20Hoogtemodel%20Vlaanderen%20II,%20DTM,%20raster,%201m)"
   ]
  },
  {
   "cell_type": "code",
   "execution_count": 77,
   "id": "covered-theme",
   "metadata": {},
   "outputs": [],
   "source": [
    "# for now, you have to set the path to the tiff files you want to use\n",
    "dsm_path = \"D:/tmp/dhmv/data/dsm/00.tif\"\n",
    "dtm_path = \"D:/tmp/dhmv/data/dtm/00.tif\""
   ]
  },
  {
   "cell_type": "code",
   "execution_count": 78,
   "id": "cardiovascular-hostel",
   "metadata": {},
   "outputs": [],
   "source": [
    "# open the files (returns a DatasetReader object)\n",
    "dsm_dsr = rasterio.open(dsm_path)\n",
    "dtm_dsr = rasterio.open(dtm_path)"
   ]
  },
  {
   "cell_type": "code",
   "execution_count": 79,
   "id": "agricultural-celebration",
   "metadata": {},
   "outputs": [],
   "source": [
    "# read the files (returns a numpy ndarray object)\n",
    "dsm_data = dsm_dsr.read(1)\n",
    "dtm_data = dtm_dsr.read(1)"
   ]
  },
  {
   "cell_type": "code",
   "execution_count": 80,
   "id": "handmade-wrestling",
   "metadata": {},
   "outputs": [],
   "source": [
    "# find the coordinates in the dataset using the .index(x, y) method\n",
    "# the method should return the index of a pixel where the address is\n",
    "ind_x, ind_y = dsm_dsr.index(geoloc[\"X_Lambert72\"], geoloc[\"Y_Lambert72\"])\n",
    "\n",
    "# now we can select an area around the pixel\n",
    "# e.g. 100 px left, right, up and down\n",
    "radius = 25\n",
    "l, r = ind_x - radius, ind_x + radius  # left & right\n",
    "b, t = ind_y - radius, ind_y + radius  # bottom & top\n",
    "# note that using this might cause errors if you're too close to the bbox"
   ]
  },
  {
   "cell_type": "code",
   "execution_count": 81,
   "id": "vietnamese-message",
   "metadata": {},
   "outputs": [],
   "source": [
    "surface = dsm_data[l:r, b:t]\n",
    "terrain = dtm_data[l:r, b:t]"
   ]
  },
  {
   "cell_type": "markdown",
   "id": "progressive-testing",
   "metadata": {},
   "source": [
    "### Calculate the DEM"
   ]
  },
  {
   "cell_type": "code",
   "execution_count": 87,
   "id": "boolean-spoke",
   "metadata": {},
   "outputs": [],
   "source": [
    "height_model = surface - terrain"
   ]
  },
  {
   "cell_type": "code",
   "execution_count": 88,
   "id": "dedicated-basin",
   "metadata": {},
   "outputs": [
    {
     "data": {
      "image/png": "[encoded data removed]",
      "text/plain": [
       "<Figure size 432x288 with 1 Axes>"
      ]
     },
     "metadata": {
      "needs_background": "light"
     },
     "output_type": "display_data"
    },
    {
     "data": {
      "text/plain": [
       "<AxesSubplot:>"
      ]
     },
     "execution_count": 88,
     "metadata": {},
     "output_type": "execute_result"
    }
   ],
   "source": [
    "show(height_model)"
   ]
  },
  {
   "cell_type": "markdown",
   "id": "victorian-price",
   "metadata": {},
   "source": [
    "### mask the surroundings"
   ]
  },
  {
   "cell_type": "markdown",
   "id": "placed-temple",
   "metadata": {},
   "source": [
    "*Not implemented yet. Maybe in a future release.*"
   ]
  },
  {
   "cell_type": "markdown",
   "id": "careful-upper",
   "metadata": {},
   "source": [
    "## Visualize in 3D"
   ]
  },
  {
   "cell_type": "markdown",
   "id": "emotional-nightmare",
   "metadata": {},
   "source": [
    "### Convert the height model to a DataFrame object"
   ]
  },
  {
   "cell_type": "code",
   "execution_count": 90,
   "id": "threatened-meeting",
   "metadata": {},
   "outputs": [],
   "source": [
    "df = pd.DataFrame(height_model)"
   ]
  },
  {
   "cell_type": "code",
   "execution_count": 95,
   "id": "national-volunteer",
   "metadata": {},
   "outputs": [],
   "source": [
    "fig = go.Figure(data=[go.Surface(z=df.values)])"
   ]
  },
  {
   "cell_type": "code",
   "execution_count": 94,
   "id": "likely-organic",
   "metadata": {},
   "outputs": [
    {
     "data": {
      "application/vnd.plotly.v1+json": {
       "config": {
        "plotlyServerURL": "https://plot.ly"
       },
       "data": [
        {
         "type": "surface",
         "z": [
          [
           0,
           0,
           0,
           0,
           0,
           0,
           0,
           0,
           0,
           0,
           0,
           0,
           0,
           0,
           0,
           0,
           0,
           0,
           0,
           0,
           0,
           0,
           0,
           0,
           0,
           0,
           0,
           0,
           0,
           0,
           0,
           0,
           0,
           0,
           0.6300010681152344,
           0,
           0.5200004577636719,
           0,
           0,
           0.5500011444091797,
           0.7900009155273438,
           0.7600002288818359,
           0.8899993896484375,
           0,
           0,
           0,
           0,
           0,
           0,
           0
          ],
          [
           0,
           0,
           0,
           0,
           0,
           0,
           0,
           0,
           0,
           0,
           0,
           0,
           0,
           0,
           0,
           0,
           0,
           0,
           0,
           0,
           0,
           0,
           0,
           0,
           0,
           0,
           0,
           0,
           0,
           0,
           0,
           0,
           0,
           0,
           0,
           0,
           0,
           0,
           0,
           0,
           0,
           0,
           0,
           0,
           0,
           0,
           0,
           0,
           0,
           0
          ],
          [
           0,
           0,
           0,
           0,
           0,
           0,
           0,
           0,
           0,
           0,
           0,
           0,
           0,
           0,
           0,
           0,
           0,
           0,
           0,
           0,
           0.9599990844726562,
           0,
           0,
           0,
           0,
           0,
           0,
           0,
           0,
           0,
           0,
           0,
           0,
           0,
           0,
           0,
           0,
           0,
           0,
           0,
           0,
           0,
           0,
           0,
           0,
           0,
           0,
           0,
           0,
           0
          ],
          [
           0,
           0,
           0,
           0,
           0,
           0.7399997711181641,
           0,
           0,
           0,
           0,
           0,
           0,
           0,
           0,
           0,
           0,
           0,
           0,
           0,
           0,
           0,
           0,
           0,
           0.18000030517578125,
           0,
           0,
           0,
           0,
           0,
           0,
           0,
           0,
           0,
           0,
           0,
           0,
           0,
           0,
           0,
           0,
           0,
           0,
           0,
           0,
           0,
           0,
           0,
           0,
           0,
           0
          ],
          [
           0,
           0,
           0,
           0,
           0,
           0,
           0,
           0,
           0,
           0,
           0,
           0,
           0,
           0,
           0,
           0,
           0,
           0,
           0,
           0,
           0,
           0,
           0,
           0,
           0,
           0,
           0,
           0,
           0,
           0,
           0,
           0,
           0,
           0,
           0,
           0,
           0,
           0,
           0,
           0,
           0,
           0,
           0,
           0,
           0,
           0,
           0,
           0,
           0,
           0
          ],
          [
           0,
           0,
           0,
           0,
           0,
           0,
           0,
           0,
           0,
           0,
           0,
           0,
           0,
           0,
           0,
           0.5799999237060547,
           0,
           0,
           0,
           0,
           0,
           0,
           0,
           0,
           0,
           0,
           0,
           0,
           0,
           0,
           0,
           0,
           0,
           0,
           0,
           0,
           0,
           0,
           0,
           0,
           0,
           0,
           0,
           0,
           0,
           0,
           0,
           0,
           0,
           0
          ],
          [
           0,
           0,
           0,
           0,
           0,
           0,
           0,
           0,
           0,
           0,
           0,
           0,
           0,
           0,
           0,
           0,
           0,
           0,
           0,
           0,
           0,
           0,
           0,
           0,
           0,
           0,
           0,
           0,
           0,
           0,
           0,
           0,
           0,
           0,
           0,
           0,
           0,
           0,
           0,
           0,
           0,
           0,
           0,
           0,
           0,
           0,
           0,
           0,
           0,
           0
          ],
          [
           0,
           0,
           0,
           0,
           0,
           0,
           0,
           0,
           0,
           0,
           0,
           0,
           0,
           0,
           0,
           0,
           0,
           0,
           0,
           0,
           0,
           0,
           0,
           0,
           0,
           0,
           0,
           0,
           0,
           0,
           0,
           0,
           0,
           0,
           0,
           0,
           0,
           0,
           0,
           0,
           0,
           0,
           0,
           0,
           0,
           0,
           0,
           0,
           0,
           0
          ],
          [
           0,
           0,
           0,
           0,
           0,
           0,
           0,
           0,
           0,
           0,
           0,
           0,
           0,
           0,
           0.39999961853027344,
           0,
           0,
           0,
           0,
           0,
           0,
           0,
           0,
           0,
           0,
           0,
           0,
           0,
           0,
           0,
           0,
           0,
           0,
           0,
           0,
           0,
           0,
           0,
           0,
           0,
           0,
           0.5399990081787109,
           1.2599983215332031,
           0.2199993133544922,
           0.24000167846679688,
           0,
           0,
           0,
           0,
           0
          ],
          [
           0,
           0,
           0,
           0,
           0,
           0,
           0,
           0,
           0,
           0,
           0,
           0,
           0,
           0,
           0.45999908447265625,
           1.2299995422363281,
           0.43000030517578125,
           0,
           0,
           0,
           0,
           0,
           0,
           0,
           0,
           0,
           0.6500015258789062,
           0,
           0,
           0,
           0.05999946594238281,
           0,
           0,
           0,
           0,
           0,
           0,
           0,
           0,
           0,
           0,
           0,
           1.029998779296875,
           0.14999961853027344,
           0.060001373291015625,
           0,
           0,
           0,
           0,
           0
          ],
          [
           0,
           0,
           0,
           0.6599998474121094,
           0.7399997711181641,
           1.029998779296875,
           0,
           0,
           0,
           0,
           0,
           0,
           0,
           0,
           0,
           0,
           0,
           0,
           0,
           0,
           0,
           0,
           0,
           0.3600006103515625,
           0.7299995422363281,
           0,
           0.37999916076660156,
           0.05999946594238281,
           0.4799995422363281,
           0.6899986267089844,
           0.8099994659423828,
           0,
           0,
           0,
           0,
           0.7700004577636719,
           0.9899997711181641,
           0,
           0.7100009918212891,
           0,
           0,
           0,
           0,
           0,
           0,
           0,
           0,
           0,
           0,
           0
          ],
          [
           0,
           0,
           0,
           0.2800006866455078,
           0,
           1.039999008178711,
           0,
           0,
           0,
           0,
           0,
           0,
           0,
           0,
           0.7399997711181641,
           1.0899982452392578,
           0,
           0,
           0,
           0,
           0,
           0,
           0,
           0.23999977111816406,
           0.03999900817871094,
           0.3599987030029297,
           0,
           0.12000083923339844,
           0.4699993133544922,
           0.07000160217285156,
           0.6300010681152344,
           0,
           0,
           0,
           0,
           0.3899993896484375,
           0,
           0.37999916076660156,
           0.5300006866455078,
           0.049999237060546875,
           0,
           0.5900001525878906,
           0.8799991607666016,
           0,
           0,
           0,
           0,
           0,
           0,
           0
          ],
          [
           0,
           0,
           0,
           0,
           0,
           0,
           0,
           0,
           0,
           0,
           0,
           0,
           0,
           0.3299999237060547,
           0,
           1.0599994659423828,
           0,
           0,
           0,
           0,
           0,
           0,
           0,
           -0.010000228881835938,
           0.21000099182128906,
           0.1900005340576172,
           1.8100013732910156,
           1.9399986267089844,
           2.690000534057617,
           1.1399993896484375,
           0.2199993133544922,
           0,
           0.5500011444091797,
           0.7399997711181641,
           0.4500007629394531,
           0,
           0,
           0,
           0.35000038146972656,
           0.9099998474121094,
           0.21000099182128906,
           0.10000038146972656,
           0,
           0,
           0,
           0,
           0,
           0,
           0,
           0
          ],
          [
           0,
           0,
           0,
           0,
           0,
           0,
           0,
           0,
           0,
           0,
           0.12999916076660156,
           0.20999908447265625,
           0.5100002288818359,
           0.06999969482421875,
           0.25,
           0,
           0,
           0,
           0,
           0,
           0,
           0,
           0,
           0.4400005340576172,
           0.31999969482421875,
           0.7299995422363281,
           -0.010000228881835938,
           0.4200000762939453,
           0,
           0.03999900817871094,
           0.07999992370605469,
           2.940000534057617,
           0,
           0,
           0.5100002288818359,
           0,
           0.6399993896484375,
           0,
           0.6900005340576172,
           0,
           0.010000228881835938,
           0,
           0,
           0,
           0,
           0,
           0,
           0,
           0,
           0
          ],
          [
           0,
           0,
           0,
           0,
           0,
           0,
           0.8500003814697266,
           0.6499996185302734,
           0,
           0,
           0.1399993896484375,
           0.7900009155273438,
           0.05999946594238281,
           0,
           0,
           0,
           0,
           0,
           0,
           0,
           0,
           0,
           0,
           0.4799995422363281,
           0.05999946594238281,
           0,
           0,
           0.1700000762939453,
           0,
           0.4400005340576172,
           0,
           0.25,
           0,
           0,
           0.010000228881835938,
           0,
           0,
           0,
           0,
           0,
           0,
           0,
           0.6900005340576172,
           0.010000228881835938,
           0,
           0,
           0,
           0,
           0,
           0
          ],
          [
           0,
           0,
           0,
           0,
           0,
           0,
           0,
           0,
           1.1900005340576172,
           0.8500003814697266,
           1.3999996185302734,
           0.5200004577636719,
           0.5100002288818359,
           0,
           0,
           0.37999916076660156,
           0,
           0,
           0,
           0,
           0,
           0,
           0,
           0,
           0,
           0,
           0,
           0,
           0,
           0,
           0,
           0,
           0.030000686645507812,
           0.5100002288818359,
           0.7000007629394531,
           0,
           0,
           0,
           0.75,
           0.5900001525878906,
           0,
           0,
           0,
           0,
           0,
           0,
           0,
           0,
           0,
           0
          ],
          [
           0,
           0.3800010681152344,
           0,
           0,
           0,
           0,
           0,
           0,
           1.6700000762939453,
           2.4300003051757812,
           0.22999954223632812,
           0.43000030517578125,
           0.6700000762939453,
           1.0799999237060547,
           0.7199993133544922,
           0,
           0,
           0,
           0,
           0,
           4.709999084472656,
           11.89999771118164,
           12.119998931884766,
           9.989999771118164,
           9.769998550415039,
           0.7600002288818359,
           0,
           0.010000228881835938,
           0,
           0,
           0,
           0,
           0,
           0,
           0.10000038146972656,
           0.17999839782714844,
           0,
           0,
           0,
           0,
           -0.010000228881835938,
           0,
           0,
           0,
           0,
           0,
           0,
           0,
           0,
           0
          ],
          [
           0,
           0.13000106811523438,
           0,
           0,
           0,
           0,
           0,
           2.270000457763672,
           0,
           1.25,
           1.1600017547607422,
           0,
           0.07999992370605469,
           0.43000030517578125,
           0,
           0,
           0,
           0,
           0,
           11.25,
           12.070001602172852,
           12.280000686645508,
           12.700000762939453,
           12.619998931884766,
           12.410001754760742,
           12.200000762939453,
           6.909999847412109,
           5.029998779296875,
           10.180000305175781,
           10.280000686645508,
           0,
           0,
           0,
           0,
           0,
           0,
           0,
           0.1700000762939453,
           0.7800006866455078,
           0.7600002288818359,
           0,
           0.18999862670898438,
           0.020000457763671875,
           0,
           0,
           0,
           0,
           0,
           0,
           0
          ],
          [
           0,
           0,
           0,
           0,
           0,
           0,
           0.3899993896484375,
           2.3999996185302734,
           0.5400009155273438,
           1.2800006866455078,
           1.1900005340576172,
           0.12999916076660156,
           0,
           0.35000038146972656,
           0,
           0,
           0,
           0,
           0,
           11.950000762939453,
           12.260000228881836,
           12.979999542236328,
           13.320001602172852,
           13.389999389648438,
           13.209999084472656,
           13,
           12.739999771118164,
           12.600000381469727,
           12.419998168945312,
           12.270000457763672,
           11.5,
           11.549997329711914,
           5.909999847412109,
           11.670000076293945,
           4.010000228881836,
           0,
           0,
           0,
           0,
           0,
           0,
           0,
           8.600000381469727,
           0,
           0,
           0,
           0,
           0,
           0,
           0
          ],
          [
           0,
           0,
           0,
           0,
           0.4200000762939453,
           0,
           0.9300003051757812,
           0.8099994659423828,
           1.010000228881836,
           0.5599994659423828,
           0.10000038146972656,
           0.2700004577636719,
           0,
           0,
           0,
           0,
           0,
           0,
           0.2800006866455078,
           11.950000762939453,
           12.639997482299805,
           13.489999771118164,
           14.14000129699707,
           14.25,
           13.94999885559082,
           13.780000686645508,
           13.569997787475586,
           13.379999160766602,
           13.170000076293945,
           12.989999771118164,
           12.759998321533203,
           12.619998931884766,
           12.369997024536133,
           12.210000991821289,
           11.899999618530273,
           8.740001678466797,
           8.919998168945312,
           4.319999694824219,
           10.69999885559082,
           0,
           0,
           0,
           5.469999313354492,
           0,
           0,
           0,
           0,
           0,
           0,
           0.26000022888183594
          ],
          [
           0,
           0,
           0,
           0,
           0,
           0.010000228881835938,
           0.10000038146972656,
           0.1700000762939453,
           0.48000144958496094,
           0.05000114440917969,
           0,
           0,
           0,
           0,
           0,
           0,
           0,
           0,
           8.969999313354492,
           12.299999237060547,
           13.039999008178711,
           13.85999870300293,
           14.559999465942383,
           15.069997787475586,
           14.849998474121094,
           14.619998931884766,
           14.44999885559082,
           14.170001983642578,
           13.999998092651367,
           13.749998092651367,
           13.510000228881836,
           13.389999389648438,
           13.130001068115234,
           13.010000228881836,
           12.69000244140625,
           12.510000228881836,
           12.320001602172852,
           12.149999618530273,
           12.05999755859375,
           10.130001068115234,
           11.690000534057617,
           1.75,
           3.1099987030029297,
           0,
           5.170000076293945,
           0,
           0,
           0,
           0,
           0
          ],
          [
           0,
           0,
           0,
           0,
           0,
           0,
           0.3899993896484375,
           0.7399997711181641,
           0.6200008392333984,
           0.1900005340576172,
           0.4500007629394531,
           0,
           0,
           0,
           0,
           0,
           0,
           0,
           10.740001678466797,
           12.569997787475586,
           13.349998474121094,
           14.129999160766602,
           14.85999870300293,
           14.799999237060547,
           14.610000610351562,
           14.739999771118164,
           14.929998397827148,
           14.970001220703125,
           14.829998016357422,
           14.59000015258789,
           14.34000015258789,
           14.10999870300293,
           13.930000305175781,
           13.679998397827148,
           13.479999542236328,
           13.280000686645508,
           13.040000915527344,
           12.909997940063477,
           12.749998092651367,
           12.579998016357422,
           12.409997940063477,
           12.220001220703125,
           12.80000114440918,
           4.80000114440918,
           10.839998245239258,
           4.460000991821289,
           10.39000129699707,
           12.179998397827148,
           5.049999237060547,
           0
          ],
          [
           0,
           0,
           0,
           0,
           0,
           2.239999771118164,
           2.4099998474121094,
           0.6200008392333984,
           0.1900005340576172,
           0,
           0,
           0,
           0,
           0,
           0,
           0,
           0,
           0,
           12.209999084472656,
           12.850000381469727,
           13.620000839233398,
           14.330001831054688,
           15.069997787475586,
           15.139997482299805,
           13.830001831054688,
           13.959999084472656,
           14.079999923706055,
           14.180002212524414,
           14.410001754760742,
           14.630001068115234,
           14.799999237060547,
           14.950000762939453,
           14.729999542236328,
           14.399999618530273,
           14.19999885559082,
           14.029998779296875,
           13.80999755859375,
           13.60999870300293,
           13.469999313354492,
           13.299997329711914,
           13.139999389648438,
           12.979997634887695,
           13.55000114440918,
           13.399999618530273,
           13.099998474121094,
           12.799997329711914,
           12.479999542236328,
           12.360000610351562,
           12.299999237060547,
           4.079999923706055
          ],
          [
           0,
           0,
           0,
           0,
           0.010000228881835938,
           0,
           2.200000762939453,
           1.4400005340576172,
           0,
           0,
           0,
           0,
           0,
           0,
           0,
           0,
           0.010000228881835938,
           6.579999923706055,
           12.35999870300293,
           13.069997787475586,
           13.810001373291016,
           14.540000915527344,
           14.94999885559082,
           14.160001754760742,
           13.380001068115234,
           13.079998016357422,
           13.200000762939453,
           13.419998168945312,
           13.559999465942383,
           13.740001678466797,
           13.899999618530273,
           14.069999694824219,
           14.840002059936523,
           14.439998626708984,
           14.539999008178711,
           14.64999771118164,
           14.529998779296875,
           14.380001068115234,
           14.180000305175781,
           14.029998779296875,
           13.860000610351562,
           15.059999465942383,
           14.30999755859375,
           14.070001602172852,
           13.780000686645508,
           13.480001449584961,
           13.309999465942383,
           13.279996871948242,
           13.200000762939453,
           12.989999771118164
          ],
          [
           0,
           0,
           0,
           0,
           0.6199989318847656,
           1.6200008392333984,
           0.37000083923339844,
           0,
           0,
           0,
           0,
           0,
           0,
           0,
           0,
           0,
           0,
           6.700000762939453,
           12.539999008178711,
           13.259998321533203,
           14.029998779296875,
           14.790000915527344,
           14.610000610351562,
           13.819997787475586,
           13.010000228881836,
           12.260000228881836,
           12.40999984741211,
           12.569999694824219,
           12.740001678466797,
           12.90999984741211,
           13.059999465942383,
           13.200000762939453,
           13.409997940063477,
           13.530000686645508,
           13.739999771118164,
           13.879999160766602,
           13.979999542236328,
           14.170000076293945,
           14.40999984741211,
           14.59000015258789,
           14.510000228881836,
           15.259998321533203,
           14.999998092651367,
           14.799999237060547,
           14.490001678466797,
           14.239997863769531,
           14.189998626708984,
           14.039997100830078,
           13.889999389648438,
           13.760000228881836
          ],
          [
           0,
           0,
           0,
           0,
           0,
           2.3700008392333984,
           1.8099994659423828,
           0.07000160217285156,
           0,
           0,
           0,
           0,
           0,
           0.20000076293945312,
           0,
           0,
           3.6100006103515625,
           12.130001068115234,
           12.760000228881836,
           13.530000686645508,
           14.280000686645508,
           15.029998779296875,
           14.299999237060547,
           13.509998321533203,
           12.720001220703125,
           11.940000534057617,
           8.44000244140625,
           11.870000839233398,
           11.94999885559082,
           12.059999465942383,
           12.259998321533203,
           12.39999771118164,
           12.519998550415039,
           12.700000762939453,
           12.779998779296875,
           12.94999885559082,
           13.100000381469727,
           13.239999771118164,
           13.46999740600586,
           13.669998168945312,
           13.730001449584961,
           15.989997863769531,
           15.780000686645508,
           15.489999771118164,
           15.259998321533203,
           15.169998168945312,
           15.010000228881836,
           14.860000610351562,
           14.649999618530273,
           14.460000991821289
          ],
          [
           0,
           0,
           0,
           0,
           0,
           0,
           0.9799995422363281,
           0.1400012969970703,
           0,
           0,
           0,
           0,
           0,
           0.09000015258789062,
           0,
           0,
           11.920000076293945,
           12.369998931884766,
           12.990001678466797,
           13.740001678466797,
           14.489999771118164,
           15.059999465942383,
           13.999998092651367,
           13.19999885559082,
           12.419998168945312,
           10,
           2.9599990844726562,
           2.9499988555908203,
           4.30000114440918,
           5.190000534057617,
           7.099998474121094,
           11.500001907348633,
           11.690000534057617,
           11.770000457763672,
           11.959999084472656,
           12.099998474121094,
           12.19999885559082,
           12.430000305175781,
           12.600000381469727,
           12.760000228881836,
           12.910001754760742,
           15.630001068115234,
           15.75,
           15.84000015258789,
           16.05000114440918,
           15.979997634887695,
           15.799997329711914,
           15.710000991821289,
           15.410001754760742,
           15.259998321533203
          ],
          [
           0,
           0,
           0,
           0,
           0,
           0,
           0,
           0,
           0,
           0,
           0,
           0,
           0.07999992370605469,
           0.7300014495849609,
           0,
           0,
           12.030000686645508,
           12.529998779296875,
           13.239999771118164,
           13.94999885559082,
           14.680000305175781,
           14.400001525878906,
           13.620000839233398,
           12.830001831054688,
           12.030000686645508,
           8.85999870300293,
           2.7900009155273438,
           2.780000686645508,
           2.779998779296875,
           2.8499984741210938,
           2.739999771118164,
           2.6000003814697266,
           2.059999465942383,
           8.530000686645508,
           6.190000534057617,
           10.610000610351562,
           11.380001068115234,
           11.489999771118164,
           11.600000381469727,
           11.819999694824219,
           11.999998092651367,
           14.710000991821289,
           14.819997787475586,
           14.979997634887695,
           15.180000305175781,
           15.439998626708984,
           15.610000610351562,
           15.829998016357422,
           16.079999923706055,
           16.089998245239258
          ],
          [
           0,
           0,
           0,
           0,
           0,
           0,
           0.37999916076660156,
           0.5100002288818359,
           0,
           0,
           0,
           0,
           0,
           2.0799999237060547,
           0,
           0,
           12.19999885559082,
           12.790000915527344,
           13.5,
           14.229999542236328,
           14.920000076293945,
           14.05000114440918,
           13.260002136230469,
           12.459999084472656,
           11.639997482299805,
           3.489999771118164,
           2.8999996185302734,
           2.719999313354492,
           2.710000991821289,
           2.9200000762939453,
           2.6800003051757812,
           2.4599990844726562,
           2,
           2.270000457763672,
           2.4299983978271484,
           3.5,
           10.539999008178711,
           10.680000305175781,
           10.789999008178711,
           10.94999885559082,
           14.319999694824219,
           13.84000015258789,
           13.989999771118164,
           14.189998626708984,
           14.360000610351562,
           14.559999465942383,
           14.829999923706055,
           15.009998321533203,
           15.179998397827148,
           15.270000457763672
          ],
          [
           0,
           0,
           0,
           0,
           0,
           0,
           0,
           0,
           0,
           0,
           0,
           0,
           0,
           0,
           0,
           11.989997863769531,
           12.44999885559082,
           13.15999984741211,
           13.820001602172852,
           14.539999008178711,
           14.60999870300293,
           13.770000457763672,
           12.96999740600586,
           12.160001754760742,
           7.329999923706055,
           3.719999313354492,
           3.4299983978271484,
           3.1599998474121094,
           2.8600006103515625,
           2.6799983978271484,
           2.6300010681152344,
           1.9699993133544922,
           2.029998779296875,
           2.3700008392333984,
           2.489999771118164,
           3.4300003051757812,
           2.9499988555908203,
           4.450000762939453,
           6.94000244140625,
           9.670000076293945,
           12.870000839233398,
           12.979999542236328,
           13.160001754760742,
           13.35999870300293,
           13.510002136230469,
           13.729999542236328,
           13.930000305175781,
           14.10999870300293,
           14.280000686645508,
           14.309999465942383
          ],
          [
           0,
           0,
           0,
           0,
           0,
           0,
           0,
           0,
           0,
           0,
           0,
           0,
           0,
           0,
           0.43000030517578125,
           12.09000015258789,
           12.760000228881836,
           13.440000534057617,
           14.110000610351562,
           14.89000129699707,
           14.34000015258789,
           13.510000228881836,
           12.670000076293945,
           11.869998931884766,
           4.659999847412109,
           4.3600006103515625,
           4.039999008178711,
           3.75,
           3.479999542236328,
           3.1700000762939453,
           2.9200000762939453,
           2.6299991607666016,
           2.3299999237060547,
           2.190000534057617,
           3.3799991607666016,
           2.960000991821289,
           2.940000534057617,
           1.3400001525878906,
           2.9300003051757812,
           3.809999465942383,
           11.89999771118164,
           12.219999313354492,
           12.339998245239258,
           12.529998779296875,
           12.680000305175781,
           12.920001983642578,
           13.069997787475586,
           13.259998321533203,
           13.440000534057617,
           13.559999465942383
          ],
          [
           0,
           0,
           0,
           0,
           0,
           0,
           0,
           0,
           0,
           0,
           0,
           0,
           0,
           0,
           9.690000534057617,
           12.319999694824219,
           12.979999542236328,
           13.649999618530273,
           14.309999465942383,
           14.990001678466797,
           15.80999755859375,
           16.079999923706055,
           13.94999885559082,
           11.60999870300293,
           5.299999237060547,
           4.960000991821289,
           4.709999084472656,
           4.39000129699707,
           4.069999694824219,
           3.8000011444091797,
           3.530000686645508,
           3.270000457763672,
           2.9099998474121094,
           3.1899986267089844,
           3,
           3.1800003051757812,
           2.9299983978271484,
           2.489999771118164,
           2.8899993896484375,
           3.6199989318847656,
           0.9200000762939453,
           6.929998397827148,
           11.430000305175781,
           11.679998397827148,
           11.84000015258789,
           12.09000015258789,
           12.179998397827148,
           12.439998626708984,
           12.600000381469727,
           12.71999740600586
          ],
          [
           0,
           0,
           0,
           0,
           0,
           0,
           0,
           0,
           0,
           0,
           0,
           0,
           0,
           0,
           6.350000381469727,
           12.450000762939453,
           13.179998397827148,
           13.879999160766602,
           14.599998474121094,
           13.919998168945312,
           15.940000534057617,
           15.75,
           15.049999237060547,
           14.309999465942383,
           13.499998092651367,
           6.409999847412109,
           5.379999160766602,
           5.069999694824219,
           4.760000228881836,
           4.44999885559082,
           4.170000076293945,
           3.8999996185302734,
           3.5900001525878906,
           3.019998550415039,
           2.979999542236328,
           2.969999313354492,
           2.950000762939453,
           2.8999996185302734,
           4.879999160766602,
           0.09000015258789062,
           0.010000228881835938,
           0,
           0.010000228881835938,
           4.799999237060547,
           9.350000381469727,
           8.759998321533203,
           10.600000381469727,
           8.040000915527344,
           11.850000381469727,
           11.96999740600586
          ],
          [
           0,
           0,
           0,
           0,
           0,
           0,
           0,
           0,
           0,
           0,
           0,
           0,
           0,
           0,
           12.039999008178711,
           12.679998397827148,
           13.40999984741211,
           14.120000839233398,
           14.799999237060547,
           15.470001220703125,
           16.189998626708984,
           15.539999008178711,
           14.719999313354492,
           13.959999084472656,
           13.239997863769531,
           12.440000534057617,
           11.739999771118164,
           5.779998779296875,
           5.479999542236328,
           5.149999618530273,
           4.829999923706055,
           4.549999237060547,
           4.920000076293945,
           3.229999542236328,
           3.1200008392333984,
           3,
           2.960000991821289,
           2.9499988555908203,
           5.079999923706055,
           0,
           0,
           0,
           3.089998245239258,
           2.5699996948242188,
           2.5699996948242188,
           2.8600006103515625,
           3.729999542236328,
           3.559999465942383,
           5.060001373291016,
           10.010000228881836
          ],
          [
           0,
           0,
           0,
           0,
           0,
           0,
           0,
           0,
           0,
           0,
           0,
           0,
           0,
           11.849998474121094,
           11.340002059936523,
           12.929998397827148,
           13.589998245239258,
           14.309999465942383,
           15.019998550415039,
           15.740001678466797,
           15.969999313354492,
           15.160001754760742,
           14.399999618530273,
           13.699996948242188,
           12.94999885559082,
           12.249998092651367,
           11.450000762939453,
           3.5,
           3.6599998474121094,
           5.849998474121094,
           5.530000686645508,
           5.260000228881836,
           3.5,
           3.1000003814697266,
           3.0600013732910156,
           3.280000686645508,
           3.010000228881836,
           5.319999694824219,
           5.560001373291016,
           4.80000114440918,
           0,
           3.059999465942383,
           2.6199989318847656,
           2.5,
           2.5,
           3.729999542236328,
           3.549999237060547,
           3.4200000762939453,
           3.3299999237060547,
           3.1700000762939453
          ],
          [
           0,
           0,
           0,
           0,
           0,
           0,
           0,
           0,
           0,
           0,
           0,
           0,
           0,
           11.90999984741211,
           12.510000228881836,
           13.190000534057617,
           13.910001754760742,
           14.35999870300293,
           14.579999923706055,
           14.889999389648438,
           15.179998397827148,
           14.909997940063477,
           14.150001525878906,
           13.419998168945312,
           12.64000129699707,
           11.940000534057617,
           7.719999313354492,
           3.519998550415039,
           3.470001220703125,
           3.4300003051757812,
           3.510000228881836,
           3.3599987030029297,
           3.3299999237060547,
           3.4300003051757812,
           3.0699996948242188,
           3.0900001525878906,
           3.25,
           6.539999008178711,
           6.069999694824219,
           5.539999008178711,
           4.960000991821289,
           2.6499996185302734,
           2.5799999237060547,
           2.6200008392333984,
           3.780000686645508,
           3.6100006103515625,
           3.4300003051757812,
           3.260000228881836,
           3.1100006103515625,
           2.809999465942383
          ],
          [
           0,
           0,
           0,
           0,
           0,
           0,
           0,
           0,
           0,
           0,
           0,
           0,
           0,
           12.239999771118164,
           12.519998550415039,
           12.869998931884766,
           13.099998474121094,
           13.440000534057617,
           13.719999313354492,
           14.010000228881836,
           14.389997482299805,
           14.71999740600586,
           13.85999870300293,
           13.120000839233398,
           12.430000305175781,
           11.71999740600586,
           3.520000457763672,
           3.5,
           3.450000762939453,
           3.4200000762939453,
           3.4000015258789062,
           3.3500003814697266,
           3.3200016021728516,
           3.25,
           3.450000762939453,
           3.1299991607666016,
           5.509998321533203,
           6.059999465942383,
           6.620000839233398,
           6.049999237060547,
           5.430000305175781,
           4.239999771118164,
           3.440000534057617,
           3.8299999237060547,
           3.6700000762939453,
           3.479999542236328,
           3.3199996948242188,
           3.1700000762939453,
           2.989999771118164,
           2.6200008392333984
          ],
          [
           0,
           0,
           0,
           0,
           0,
           0,
           0,
           0,
           0,
           0,
           0,
           0,
           0,
           0,
           2.4200000762939453,
           8.040000915527344,
           11.799997329711914,
           12.579998016357422,
           12.879999160766602,
           11.820001602172852,
           13.559999465942383,
           13.819997787475586,
           13.630001068115234,
           12.849998474121094,
           12.190000534057617,
           10.35999870300293,
           3.520000457763672,
           3.489999771118164,
           3.450000762939453,
           3.4099998474121094,
           3.3800010681152344,
           3.2900009155273438,
           3.3100013732910156,
           3.3000011444091797,
           3.2900009155273438,
           4.409999847412109,
           4.989999771118164,
           5.5,
           5.899999618530273,
           6.400001525878906,
           5.899999618530273,
           5.309999465942383,
           4.729999542236328,
           3.729999542236328,
           3.539999008178711,
           3.3700008392333984,
           3.190000534057617,
           3.0699996948242188,
           2.8900012969970703,
           2.5400009155273438
          ],
          [
           0,
           0,
           0,
           0,
           0,
           0,
           0,
           0,
           0,
           0,
           0,
           0,
           0,
           0,
           0,
           0,
           4.19999885559082,
           10.440000534057617,
           11.970001220703125,
           9.429998397827148,
           12.649999618530273,
           12.959997177124023,
           13.289999008178711,
           12.610000610351562,
           11.899999618530273,
           3.5699996948242188,
           3.5400009155273438,
           3.479999542236328,
           3.4499988555908203,
           3.3799991607666016,
           3.309999465942383,
           3.3600006103515625,
           3.3199996948242188,
           3.3199996948242188,
           3.260000228881836,
           3.219999313354492,
           4.489999771118164,
           4.8899993896484375,
           5.370000839233398,
           5.689998626708984,
           6.25,
           5.739999771118164,
           5.1399993896484375,
           4.559999465942383,
           3.4200000762939453,
           3.259998321533203,
           3.0900001525878906,
           2.950000762939453,
           2.770000457763672,
           2.489999771118164
          ],
          [
           0,
           0,
           0,
           0,
           0,
           0,
           0,
           0,
           0,
           0.7699985504150391,
           0,
           0.049999237060546875,
           0,
           0,
           0,
           0,
           0,
           0,
           0,
           3.739999771118164,
           11.479999542236328,
           12.100000381469727,
           12.430000305175781,
           12.39000129699707,
           11.630001068115234,
           3.5699996948242188,
           3.530000686645508,
           3.4499988555908203,
           3.3400001525878906,
           3.3499984741210938,
           3.4300003051757812,
           3.3199996948242188,
           3.3500003814697266,
           3.289999008178711,
           3.270000457763672,
           3.279998779296875,
           3.280000686645508,
           4.079999923706055,
           4.60999870300293,
           5.029998779296875,
           5.959999084472656,
           5.909999847412109,
           5.629999160766602,
           4.950000762939453,
           4.44999885559082,
           3.259998321533203,
           2.969999313354492,
           2.809999465942383,
           2.5400009155273438,
           2.4200000762939453
          ],
          [
           0,
           0,
           0,
           0,
           0,
           0,
           0,
           0.6100006103515625,
           0.5200004577636719,
           1.2800006866455078,
           0.5900001525878906,
           0.8400001525878906,
           0,
           0,
           0,
           0.010000228881835938,
           0,
           0,
           0,
           0,
           0,
           3.799999237060547,
           5.819999694824219,
           11.930000305175781,
           8.209999084472656,
           3.539999008178711,
           3.4499988555908203,
           3.3600006103515625,
           3.4399986267089844,
           3.479999542236328,
           3.3199996948242188,
           3.3999996185302734,
           3.3199996948242188,
           3.3000011444091797,
           3.3199996948242188,
           3.299999237060547,
           3.190000534057617,
           3.0600013732910156,
           3.789999008178711,
           4.420000076293945,
           4.75,
           5.1399993896484375,
           5.770000457763672,
           5.540000915527344,
           4.850000381469727,
           4.430000305175781,
           3.3599987030029297,
           2.6999988555908203,
           2.6799983978271484,
           2.3700008392333984
          ],
          [
           0,
           0,
           0,
           0,
           0,
           0,
           0,
           0,
           0,
           0,
           0,
           0.7399997711181641,
           0,
           0,
           1.6700000762939453,
           0.010000228881835938,
           0.010000228881835938,
           0.029998779296875,
           0,
           0,
           0,
           0.8800010681152344,
           1.2299995422363281,
           0.3600006103515625,
           1,
           3.5900001525878906,
           3.5900001525878906,
           3.5,
           3.549999237060547,
           3.309999465942383,
           3.4300003051757812,
           3.3999996185302734,
           3.3299999237060547,
           3.3299999237060547,
           3.3299999237060547,
           3.220001220703125,
           3.0700016021728516,
           2.9499988555908203,
           2.8199996948242188,
           3.5,
           4.1100006103515625,
           4.469999313354492,
           5.069999694824219,
           5.689998626708984,
           5.299999237060547,
           4.760000228881836,
           4.309999465942383,
           3.6999988555908203,
           2.7099990844726562,
           2.5699996948242188
          ],
          [
           0,
           0,
           0,
           0,
           0,
           0,
           0,
           0.010000228881835938,
           1.3899993896484375,
           1.3899993896484375,
           0.6200008392333984,
           0,
           0,
           0.010000228881835938,
           0.10000038146972656,
           0,
           0,
           0,
           0,
           0,
           0,
           0.5900001525878906,
           1.3500003814697266,
           0.8400001525878906,
           0.8099994659423828,
           0.6700000762939453,
           0,
           2.589998245239258,
           3.3299999237060547,
           3.480001449584961,
           3.450000762939453,
           3.4099998474121094,
           3.3299999237060547,
           3.4199981689453125,
           3.270000457763672,
           3.1300010681152344,
           3.009998321533203,
           2.8799991607666016,
           2.75,
           2.6400012969970703,
           3.6000003814697266,
           3.8799991607666016,
           4.369998931884766,
           4.920000076293945,
           5.3600006103515625,
           5.229999542236328,
           4.690000534057617,
           4.260000228881836,
           3.5699996948242188,
           2.6099987030029297
          ],
          [
           0,
           0,
           0,
           0,
           0,
           0,
           0,
           0,
           0.4699993133544922,
           1.239999771118164,
           0.9400005340576172,
           0.4200000762939453,
           0,
           0,
           2.519998550415039,
           2.6499996185302734,
           1.4500007629394531,
           0,
           0,
           0,
           0,
           0,
           0,
           0,
           0.2999992370605469,
           2.559999465942383,
           2.539999008178711,
           1.9099998474121094,
           0,
           0.010000228881835938,
           3.6800003051757812,
           3.4200000762939453,
           3.440000534057617,
           3.3299999237060547,
           3.190000534057617,
           3.0799999237060547,
           2.940000534057617,
           2.799999237060547,
           2.6599998474121094,
           2.520000457763672,
           2.4099998474121094,
           2.6100006103515625,
           1.039999008178711,
           4.260000228881836,
           4.649999618530273,
           5.280000686645508,
           5.170000076293945,
           4.629999160766602,
           4.170000076293945,
           3.1599998474121094
          ],
          [
           0,
           0,
           0,
           0,
           0,
           0,
           0.04000091552734375,
           1.3700008392333984,
           1.239999771118164,
           0.4099998474121094,
           0,
           0.20999908447265625,
           0.9699993133544922,
           3.269998550415039,
           1.75,
           6.990001678466797,
           3.190000534057617,
           0,
           0,
           0,
           0,
           0,
           0,
           0,
           0,
           0.7999992370605469,
           2.519998550415039,
           2.539999008178711,
           2.480001449584961,
           2.299999237060547,
           0.6000003814697266,
           0,
           3.5900001525878906,
           3.3000011444091797,
           3.1200008392333984,
           3,
           2.8299999237060547,
           2.690000534057617,
           2.5699996948242188,
           2.440000534057617,
           2.3100013732910156,
           3.029998779296875,
           1.2299995422363281,
           3.729999542236328,
           4.05000114440918,
           4.510000228881836,
           5.120000839233398,
           5.1100006103515625,
           4.549999237060547,
           4.100000381469727
          ],
          [
           0,
           0,
           0,
           0,
           0,
           0.1700000762939453,
           0.10000038146972656,
           1.0500011444091797,
           0.7399997711181641,
           0.8600006103515625,
           0.05999946594238281,
           2.6400012969970703,
           1.7199993133544922,
           1.1100006103515625,
           0,
           3.1700000762939453,
           5.930000305175781,
           2.3400001525878906,
           0,
           0,
           0,
           0,
           0,
           0,
           0,
           0,
           0,
           1.4400005340576172,
           2.489999771118164,
           2.1999988555908203,
           1.3599987030029297,
           0,
           3.3400001525878906,
           3.1000003814697266,
           2.9099998474121094,
           2.770000457763672,
           2.690000534057617,
           2.5799999237060547,
           2.4099998474121094,
           2.289999008178711,
           2.729999542236328,
           2.0900001525878906,
           0.010000228881835938,
           0.31999969482421875,
           2.539999008178711,
           3.9399986267089844,
           4.5,
           5.180000305175781,
           5.059999465942383,
           4.5
          ],
          [
           0,
           0,
           0,
           0,
           0,
           0,
           0,
           0,
           0,
           0,
           1,
           1.8299999237060547,
           0.5500011444091797,
           0.010000228881835938,
           0.6399993896484375,
           0.010000228881835938,
           0.12000083923339844,
           2.690000534057617,
           0,
           0,
           0,
           0,
           0,
           0,
           0,
           0,
           0,
           0,
           0,
           0,
           0.8999996185302734,
           2.25,
           3,
           2.989999771118164,
           2.780000686645508,
           2.6000003814697266,
           2.460000991821289,
           2.3000011444091797,
           2.1700000762939453,
           2.4099998474121094,
           0,
           0,
           -0.05000114440917969,
           0.05999946594238281,
           0.4799995422363281,
           3.3899993896484375,
           3.8999996185302734,
           4.459999084472656,
           4.999998092651367,
           5
          ],
          [
           0,
           0,
           0,
           0,
           0,
           1.0499992370605469,
           1.6299991607666016,
           1.2299995422363281,
           0.8099994659423828,
           0,
           0.05999946594238281,
           0.6599998474121094,
           0.010000228881835938,
           0,
           1.2199993133544922,
           -0.010000228881835938,
           -0.030000686645507812,
           0,
           1.7800006866455078,
           2.25,
           0,
           0,
           0,
           0,
           0,
           0,
           0,
           0,
           0,
           0,
           0,
           2.700000762939453,
           2.3800010681152344,
           2.450000762939453,
           2.510000228881836,
           2.4099998474121094,
           2.240001678466797,
           2.1700000762939453,
           2.030000686645508,
           0.1900005340576172,
           0,
           0,
           0,
           0,
           0,
           1.5900001525878906,
           3.4099998474121094,
           3.8100013732910156,
           4.350000381469727,
           4.85999870300293
          ],
          [
           0,
           0,
           0,
           0,
           0,
           0,
           0.43000030517578125,
           1.0200004577636719,
           1.039999008178711,
           0.5799999237060547,
           0.1399993896484375,
           0,
           0.18999862670898438,
           0,
           0,
           0,
           -0.010000228881835938,
           0.3299999237060547,
           1.3499984741210938,
           1.6899986267089844,
           -0.3400001525878906,
           0,
           0,
           0,
           0,
           0,
           0,
           0,
           0,
           0,
           0,
           1.4799995422363281,
           1.6400012969970703,
           1.8199996948242188,
           1.8900012969970703,
           1.9500007629394531,
           2.049999237060547,
           1.970001220703125,
           0,
           -0.010000228881835938,
           0.029998779296875,
           0,
           0,
           0,
           0,
           0,
           1.6400012969970703,
           3.469999313354492,
           3.9099998474121094,
           4.340000152587891
          ],
          [
           0,
           0,
           0,
           0,
           0,
           0.5799999237060547,
           0.09000015258789062,
           0,
           0,
           0,
           0,
           0,
           0,
           1.0300006866455078,
           0.010000228881835938,
           0,
           0.010000228881835938,
           -0.05000114440917969,
           0.5,
           0,
           1.5600013732910156,
           1.3899993896484375,
           0.5799999237060547,
           0,
           0.010000228881835938,
           0,
           0,
           0,
           0,
           0,
           1.4500007629394531,
           0,
           1.010000228881836,
           1.239999771118164,
           1.289999008178711,
           1.3699989318847656,
           1.5200004577636719,
           2.25,
           0,
           0,
           0,
           0.09000015258789062,
           0,
           0,
           0,
           0,
           0.1100006103515625,
           2.25,
           3.4599990844726562,
           3.8400001525878906
          ]
         ]
        }
       ],
       "layout": {
        "scene": {
         "yaxis": {
          "autorange": "reversed"
         }
        },
        "template": {
         "data": {
          "bar": [
           {
            "error_x": {
             "color": "#2a3f5f"
            },
            "error_y": {
             "color": "#2a3f5f"
            },
            "marker": {
             "line": {
              "color": "#E5ECF6",
              "width": 0.5
             }
            },
            "type": "bar"
           }
          ],
          "barpolar": [
           {
            "marker": {
             "line": {
              "color": "#E5ECF6",
              "width": 0.5
             }
            },
            "type": "barpolar"
           }
          ],
          "carpet": [
           {
            "aaxis": {
             "endlinecolor": "#2a3f5f",
             "gridcolor": "white",
             "linecolor": "white",
             "minorgridcolor": "white",
             "startlinecolor": "#2a3f5f"
            },
            "baxis": {
             "endlinecolor": "#2a3f5f",
             "gridcolor": "white",
             "linecolor": "white",
             "minorgridcolor": "white",
             "startlinecolor": "#2a3f5f"
            },
            "type": "carpet"
           }
          ],
          "choropleth": [
           {
            "colorbar": {
             "outlinewidth": 0,
             "ticks": ""
            },
            "type": "choropleth"
           }
          ],
          "contour": [
           {
            "colorbar": {
             "outlinewidth": 0,
             "ticks": ""
            },
            "colorscale": [
             [
              0,
              "#0d0887"
             ],
             [
              0.1111111111111111,
              "#46039f"
             ],
             [
              0.2222222222222222,
              "#7201a8"
             ],
             [
              0.3333333333333333,
              "#9c179e"
             ],
             [
              0.4444444444444444,
              "#bd3786"
             ],
             [
              0.5555555555555556,
              "#d8576b"
             ],
             [
              0.6666666666666666,
              "#ed7953"
             ],
             [
              0.7777777777777778,
              "#fb9f3a"
             ],
             [
              0.8888888888888888,
              "#fdca26"
             ],
             [
              1,
              "#f0f921"
             ]
            ],
            "type": "contour"
           }
          ],
          "contourcarpet": [
           {
            "colorbar": {
             "outlinewidth": 0,
             "ticks": ""
            },
            "type": "contourcarpet"
           }
          ],
          "heatmap": [
           {
            "colorbar": {
             "outlinewidth": 0,
             "ticks": ""
            },
            "colorscale": [
             [
              0,
              "#0d0887"
             ],
             [
              0.1111111111111111,
              "#46039f"
             ],
             [
              0.2222222222222222,
              "#7201a8"
             ],
             [
              0.3333333333333333,
              "#9c179e"
             ],
             [
              0.4444444444444444,
              "#bd3786"
             ],
             [
              0.5555555555555556,
              "#d8576b"
             ],
             [
              0.6666666666666666,
              "#ed7953"
             ],
             [
              0.7777777777777778,
              "#fb9f3a"
             ],
             [
              0.8888888888888888,
              "#fdca26"
             ],
             [
              1,
              "#f0f921"
             ]
            ],
            "type": "heatmap"
           }
          ],
          "heatmapgl": [
           {
            "colorbar": {
             "outlinewidth": 0,
             "ticks": ""
            },
            "colorscale": [
             [
              0,
              "#0d0887"
             ],
             [
              0.1111111111111111,
              "#46039f"
             ],
             [
              0.2222222222222222,
              "#7201a8"
             ],
             [
              0.3333333333333333,
              "#9c179e"
             ],
             [
              0.4444444444444444,
              "#bd3786"
             ],
             [
              0.5555555555555556,
              "#d8576b"
             ],
             [
              0.6666666666666666,
              "#ed7953"
             ],
             [
              0.7777777777777778,
              "#fb9f3a"
             ],
             [
              0.8888888888888888,
              "#fdca26"
             ],
             [
              1,
              "#f0f921"
             ]
            ],
            "type": "heatmapgl"
           }
          ],
          "histogram": [
           {
            "marker": {
             "colorbar": {
              "outlinewidth": 0,
              "ticks": ""
             }
            },
            "type": "histogram"
           }
          ],
          "histogram2d": [
           {
            "colorbar": {
             "outlinewidth": 0,
             "ticks": ""
            },
            "colorscale": [
             [
              0,
              "#0d0887"
             ],
             [
              0.1111111111111111,
              "#46039f"
             ],
             [
              0.2222222222222222,
              "#7201a8"
             ],
             [
              0.3333333333333333,
              "#9c179e"
             ],
             [
              0.4444444444444444,
              "#bd3786"
             ],
             [
              0.5555555555555556,
              "#d8576b"
             ],
             [
              0.6666666666666666,
              "#ed7953"
             ],
             [
              0.7777777777777778,
              "#fb9f3a"
             ],
             [
              0.8888888888888888,
              "#fdca26"
             ],
             [
              1,
              "#f0f921"
             ]
            ],
            "type": "histogram2d"
           }
          ],
          "histogram2dcontour": [
           {
            "colorbar": {
             "outlinewidth": 0,
             "ticks": ""
            },
            "colorscale": [
             [
              0,
              "#0d0887"
             ],
             [
              0.1111111111111111,
              "#46039f"
             ],
             [
              0.2222222222222222,
              "#7201a8"
             ],
             [
              0.3333333333333333,
              "#9c179e"
             ],
             [
              0.4444444444444444,
              "#bd3786"
             ],
             [
              0.5555555555555556,
              "#d8576b"
             ],
             [
              0.6666666666666666,
              "#ed7953"
             ],
             [
              0.7777777777777778,
              "#fb9f3a"
             ],
             [
              0.8888888888888888,
              "#fdca26"
             ],
             [
              1,
              "#f0f921"
             ]
            ],
            "type": "histogram2dcontour"
           }
          ],
          "mesh3d": [
           {
            "colorbar": {
             "outlinewidth": 0,
             "ticks": ""
            },
            "type": "mesh3d"
           }
          ],
          "parcoords": [
           {
            "line": {
             "colorbar": {
              "outlinewidth": 0,
              "ticks": ""
             }
            },
            "type": "parcoords"
           }
          ],
          "pie": [
           {
            "automargin": true,
            "type": "pie"
           }
          ],
          "scatter": [
           {
            "marker": {
             "colorbar": {
              "outlinewidth": 0,
              "ticks": ""
             }
            },
            "type": "scatter"
           }
          ],
          "scatter3d": [
           {
            "line": {
             "colorbar": {
              "outlinewidth": 0,
              "ticks": ""
             }
            },
            "marker": {
             "colorbar": {
              "outlinewidth": 0,
              "ticks": ""
             }
            },
            "type": "scatter3d"
           }
          ],
          "scattercarpet": [
           {
            "marker": {
             "colorbar": {
              "outlinewidth": 0,
              "ticks": ""
             }
            },
            "type": "scattercarpet"
           }
          ],
          "scattergeo": [
           {
            "marker": {
             "colorbar": {
              "outlinewidth": 0,
              "ticks": ""
             }
            },
            "type": "scattergeo"
           }
          ],
          "scattergl": [
           {
            "marker": {
             "colorbar": {
              "outlinewidth": 0,
              "ticks": ""
             }
            },
            "type": "scattergl"
           }
          ],
          "scattermapbox": [
           {
            "marker": {
             "colorbar": {
              "outlinewidth": 0,
              "ticks": ""
             }
            },
            "type": "scattermapbox"
           }
          ],
          "scatterpolar": [
           {
            "marker": {
             "colorbar": {
              "outlinewidth": 0,
              "ticks": ""
             }
            },
            "type": "scatterpolar"
           }
          ],
          "scatterpolargl": [
           {
            "marker": {
             "colorbar": {
              "outlinewidth": 0,
              "ticks": ""
             }
            },
            "type": "scatterpolargl"
           }
          ],
          "scatterternary": [
           {
            "marker": {
             "colorbar": {
              "outlinewidth": 0,
              "ticks": ""
             }
            },
            "type": "scatterternary"
           }
          ],
          "surface": [
           {
            "colorbar": {
             "outlinewidth": 0,
             "ticks": ""
            },
            "colorscale": [
             [
              0,
              "#0d0887"
             ],
             [
              0.1111111111111111,
              "#46039f"
             ],
             [
              0.2222222222222222,
              "#7201a8"
             ],
             [
              0.3333333333333333,
              "#9c179e"
             ],
             [
              0.4444444444444444,
              "#bd3786"
             ],
             [
              0.5555555555555556,
              "#d8576b"
             ],
             [
              0.6666666666666666,
              "#ed7953"
             ],
             [
              0.7777777777777778,
              "#fb9f3a"
             ],
             [
              0.8888888888888888,
              "#fdca26"
             ],
             [
              1,
              "#f0f921"
             ]
            ],
            "type": "surface"
           }
          ],
          "table": [
           {
            "cells": {
             "fill": {
              "color": "#EBF0F8"
             },
             "line": {
              "color": "white"
             }
            },
            "header": {
             "fill": {
              "color": "#C8D4E3"
             },
             "line": {
              "color": "white"
             }
            },
            "type": "table"
           }
          ]
         },
         "layout": {
          "annotationdefaults": {
           "arrowcolor": "#2a3f5f",
           "arrowhead": 0,
           "arrowwidth": 1
          },
          "autotypenumbers": "strict",
          "coloraxis": {
           "colorbar": {
            "outlinewidth": 0,
            "ticks": ""
           }
          },
          "colorscale": {
           "diverging": [
            [
             0,
             "#8e0152"
            ],
            [
             0.1,
             "#c51b7d"
            ],
            [
             0.2,
             "#de77ae"
            ],
            [
             0.3,
             "#f1b6da"
            ],
            [
             0.4,
             "#fde0ef"
            ],
            [
             0.5,
             "#f7f7f7"
            ],
            [
             0.6,
             "#e6f5d0"
            ],
            [
             0.7,
             "#b8e186"
            ],
            [
             0.8,
             "#7fbc41"
            ],
            [
             0.9,
             "#4d9221"
            ],
            [
             1,
             "#276419"
            ]
           ],
           "sequential": [
            [
             0,
             "#0d0887"
            ],
            [
             0.1111111111111111,
             "#46039f"
            ],
            [
             0.2222222222222222,
             "#7201a8"
            ],
            [
             0.3333333333333333,
             "#9c179e"
            ],
            [
             0.4444444444444444,
             "#bd3786"
            ],
            [
             0.5555555555555556,
             "#d8576b"
            ],
            [
             0.6666666666666666,
             "#ed7953"
            ],
            [
             0.7777777777777778,
             "#fb9f3a"
            ],
            [
             0.8888888888888888,
             "#fdca26"
            ],
            [
             1,
             "#f0f921"
            ]
           ],
           "sequentialminus": [
            [
             0,
             "#0d0887"
            ],
            [
             0.1111111111111111,
             "#46039f"
            ],
            [
             0.2222222222222222,
             "#7201a8"
            ],
            [
             0.3333333333333333,
             "#9c179e"
            ],
            [
             0.4444444444444444,
             "#bd3786"
            ],
            [
             0.5555555555555556,
             "#d8576b"
            ],
            [
             0.6666666666666666,
             "#ed7953"
            ],
            [
             0.7777777777777778,
             "#fb9f3a"
            ],
            [
             0.8888888888888888,
             "#fdca26"
            ],
            [
             1,
             "#f0f921"
            ]
           ]
          },
          "colorway": [
           "#636efa",
           "#EF553B",
           "#00cc96",
           "#ab63fa",
           "#FFA15A",
           "#19d3f3",
           "#FF6692",
           "#B6E880",
           "#FF97FF",
           "#FECB52"
          ],
          "font": {
           "color": "#2a3f5f"
          },
          "geo": {
           "bgcolor": "white",
           "lakecolor": "white",
           "landcolor": "#E5ECF6",
           "showlakes": true,
           "showland": true,
           "subunitcolor": "white"
          },
          "hoverlabel": {
           "align": "left"
          },
          "hovermode": "closest",
          "mapbox": {
           "style": "light"
          },
          "paper_bgcolor": "white",
          "plot_bgcolor": "#E5ECF6",
          "polar": {
           "angularaxis": {
            "gridcolor": "white",
            "linecolor": "white",
            "ticks": ""
           },
           "bgcolor": "#E5ECF6",
           "radialaxis": {
            "gridcolor": "white",
            "linecolor": "white",
            "ticks": ""
           }
          },
          "scene": {
           "xaxis": {
            "backgroundcolor": "#E5ECF6",
            "gridcolor": "white",
            "gridwidth": 2,
            "linecolor": "white",
            "showbackground": true,
            "ticks": "",
            "zerolinecolor": "white"
           },
           "yaxis": {
            "backgroundcolor": "#E5ECF6",
            "gridcolor": "white",
            "gridwidth": 2,
            "linecolor": "white",
            "showbackground": true,
            "ticks": "",
            "zerolinecolor": "white"
           },
           "zaxis": {
            "backgroundcolor": "#E5ECF6",
            "gridcolor": "white",
            "gridwidth": 2,
            "linecolor": "white",
            "showbackground": true,
            "ticks": "",
            "zerolinecolor": "white"
           }
          },
          "shapedefaults": {
           "line": {
            "color": "#2a3f5f"
           }
          },
          "ternary": {
           "aaxis": {
            "gridcolor": "white",
            "linecolor": "white",
            "ticks": ""
           },
           "baxis": {
            "gridcolor": "white",
            "linecolor": "white",
            "ticks": ""
           },
           "bgcolor": "#E5ECF6",
           "caxis": {
            "gridcolor": "white",
            "linecolor": "white",
            "ticks": ""
           }
          },
          "title": {
           "x": 0.05
          },
          "xaxis": {
           "automargin": true,
           "gridcolor": "white",
           "linecolor": "white",
           "ticks": "",
           "title": {
            "standoff": 15
           },
           "zerolinecolor": "white",
           "zerolinewidth": 2
          },
          "yaxis": {
           "automargin": true,
           "gridcolor": "white",
           "linecolor": "white",
           "ticks": "",
           "title": {
            "standoff": 15
           },
           "zerolinecolor": "white",
           "zerolinewidth": 2
          }
         }
        }
       }
      },
      "text/html": [
       "<div>                            <div id=\"43a82ba5-ea47-4542-910a-a527f3d0d0c1\" class=\"plotly-graph-div\" style=\"height:525px; width:100%;\"></div>            <script type=\"text/javascript\">                require([\"plotly\"], function(Plotly) {                    window.PLOTLYENV=window.PLOTLYENV || {};                                    if (document.getElementById(\"43a82ba5-ea47-4542-910a-a527f3d0d0c1\")) {                    Plotly.newPlot(                        \"43a82ba5-ea47-4542-910a-a527f3d0d0c1\",                        [{\"type\": \"surface\", \"z\": [[0.0, 0.0, 0.0, 0.0, 0.0, 0.0, 0.0, 0.0, 0.0, 0.0, 0.0, 0.0, 0.0, 0.0, 0.0, 0.0, 0.0, 0.0, 0.0, 0.0, 0.0, 0.0, 0.0, 0.0, 0.0, 0.0, 0.0, 0.0, 0.0, 0.0, 0.0, 0.0, 0.0, 0.0, 0.6300010681152344, 0.0, 0.5200004577636719, 0.0, 0.0, 0.5500011444091797, 0.7900009155273438, 0.7600002288818359, 0.8899993896484375, 0.0, 0.0, 0.0, 0.0, 0.0, 0.0, 0.0], [0.0, 0.0, 0.0, 0.0, 0.0, 0.0, 0.0, 0.0, 0.0, 0.0, 0.0, 0.0, 0.0, 0.0, 0.0, 0.0, 0.0, 0.0, 0.0, 0.0, 0.0, 0.0, 0.0, 0.0, 0.0, 0.0, 0.0, 0.0, 0.0, 0.0, 0.0, 0.0, 0.0, 0.0, 0.0, 0.0, 0.0, 0.0, 0.0, 0.0, 0.0, 0.0, 0.0, 0.0, 0.0, 0.0, 0.0, 0.0, 0.0, 0.0], [0.0, 0.0, 0.0, 0.0, 0.0, 0.0, 0.0, 0.0, 0.0, 0.0, 0.0, 0.0, 0.0, 0.0, 0.0, 0.0, 0.0, 0.0, 0.0, 0.0, 0.9599990844726562, 0.0, 0.0, 0.0, 0.0, 0.0, 0.0, 0.0, 0.0, 0.0, 0.0, 0.0, 0.0, 0.0, 0.0, 0.0, 0.0, 0.0, 0.0, 0.0, 0.0, 0.0, 0.0, 0.0, 0.0, 0.0, 0.0, 0.0, 0.0, 0.0], [0.0, 0.0, 0.0, 0.0, 0.0, 0.7399997711181641, 0.0, 0.0, 0.0, 0.0, 0.0, 0.0, 0.0, 0.0, 0.0, 0.0, 0.0, 0.0, 0.0, 0.0, 0.0, 0.0, 0.0, 0.18000030517578125, 0.0, 0.0, 0.0, 0.0, 0.0, 0.0, 0.0, 0.0, 0.0, 0.0, 0.0, 0.0, 0.0, 0.0, 0.0, 0.0, 0.0, 0.0, 0.0, 0.0, 0.0, 0.0, 0.0, 0.0, 0.0, 0.0], [0.0, 0.0, 0.0, 0.0, 0.0, 0.0, 0.0, 0.0, 0.0, 0.0, 0.0, 0.0, 0.0, 0.0, 0.0, 0.0, 0.0, 0.0, 0.0, 0.0, 0.0, 0.0, 0.0, 0.0, 0.0, 0.0, 0.0, 0.0, 0.0, 0.0, 0.0, 0.0, 0.0, 0.0, 0.0, 0.0, 0.0, 0.0, 0.0, 0.0, 0.0, 0.0, 0.0, 0.0, 0.0, 0.0, 0.0, 0.0, 0.0, 0.0], [0.0, 0.0, 0.0, 0.0, 0.0, 0.0, 0.0, 0.0, 0.0, 0.0, 0.0, 0.0, 0.0, 0.0, 0.0, 0.5799999237060547, 0.0, 0.0, 0.0, 0.0, 0.0, 0.0, 0.0, 0.0, 0.0, 0.0, 0.0, 0.0, 0.0, 0.0, 0.0, 0.0, 0.0, 0.0, 0.0, 0.0, 0.0, 0.0, 0.0, 0.0, 0.0, 0.0, 0.0, 0.0, 0.0, 0.0, 0.0, 0.0, 0.0, 0.0], [0.0, 0.0, 0.0, 0.0, 0.0, 0.0, 0.0, 0.0, 0.0, 0.0, 0.0, 0.0, 0.0, 0.0, 0.0, 0.0, 0.0, 0.0, 0.0, 0.0, 0.0, 0.0, 0.0, 0.0, 0.0, 0.0, 0.0, 0.0, 0.0, 0.0, 0.0, 0.0, 0.0, 0.0, 0.0, 0.0, 0.0, 0.0, 0.0, 0.0, 0.0, 0.0, 0.0, 0.0, 0.0, 0.0, 0.0, 0.0, 0.0, 0.0], [0.0, 0.0, 0.0, 0.0, 0.0, 0.0, 0.0, 0.0, 0.0, 0.0, 0.0, 0.0, 0.0, 0.0, 0.0, 0.0, 0.0, 0.0, 0.0, 0.0, 0.0, 0.0, 0.0, 0.0, 0.0, 0.0, 0.0, 0.0, 0.0, 0.0, 0.0, 0.0, 0.0, 0.0, 0.0, 0.0, 0.0, 0.0, 0.0, 0.0, 0.0, 0.0, 0.0, 0.0, 0.0, 0.0, 0.0, 0.0, 0.0, 0.0], [0.0, 0.0, 0.0, 0.0, 0.0, 0.0, 0.0, 0.0, 0.0, 0.0, 0.0, 0.0, 0.0, 0.0, 0.39999961853027344, 0.0, 0.0, 0.0, 0.0, 0.0, 0.0, 0.0, 0.0, 0.0, 0.0, 0.0, 0.0, 0.0, 0.0, 0.0, 0.0, 0.0, 0.0, 0.0, 0.0, 0.0, 0.0, 0.0, 0.0, 0.0, 0.0, 0.5399990081787109, 1.2599983215332031, 0.2199993133544922, 0.24000167846679688, 0.0, 0.0, 0.0, 0.0, 0.0], [0.0, 0.0, 0.0, 0.0, 0.0, 0.0, 0.0, 0.0, 0.0, 0.0, 0.0, 0.0, 0.0, 0.0, 0.45999908447265625, 1.2299995422363281, 0.43000030517578125, 0.0, 0.0, 0.0, 0.0, 0.0, 0.0, 0.0, 0.0, 0.0, 0.6500015258789062, 0.0, 0.0, 0.0, 0.05999946594238281, 0.0, 0.0, 0.0, 0.0, 0.0, 0.0, 0.0, 0.0, 0.0, 0.0, 0.0, 1.029998779296875, 0.14999961853027344, 0.060001373291015625, 0.0, 0.0, 0.0, 0.0, 0.0], [0.0, 0.0, 0.0, 0.6599998474121094, 0.7399997711181641, 1.029998779296875, 0.0, 0.0, 0.0, 0.0, 0.0, 0.0, 0.0, 0.0, 0.0, 0.0, 0.0, 0.0, 0.0, 0.0, 0.0, 0.0, 0.0, 0.3600006103515625, 0.7299995422363281, 0.0, 0.37999916076660156, 0.05999946594238281, 0.4799995422363281, 0.6899986267089844, 0.8099994659423828, 0.0, 0.0, 0.0, 0.0, 0.7700004577636719, 0.9899997711181641, 0.0, 0.7100009918212891, 0.0, 0.0, 0.0, 0.0, 0.0, 0.0, 0.0, 0.0, 0.0, 0.0, 0.0], [0.0, 0.0, 0.0, 0.2800006866455078, 0.0, 1.039999008178711, 0.0, 0.0, 0.0, 0.0, 0.0, 0.0, 0.0, 0.0, 0.7399997711181641, 1.0899982452392578, 0.0, 0.0, 0.0, 0.0, 0.0, 0.0, 0.0, 0.23999977111816406, 0.03999900817871094, 0.3599987030029297, 0.0, 0.12000083923339844, 0.4699993133544922, 0.07000160217285156, 0.6300010681152344, 0.0, 0.0, 0.0, 0.0, 0.3899993896484375, 0.0, 0.37999916076660156, 0.5300006866455078, 0.049999237060546875, 0.0, 0.5900001525878906, 0.8799991607666016, 0.0, 0.0, 0.0, 0.0, 0.0, 0.0, 0.0], [0.0, 0.0, 0.0, 0.0, 0.0, 0.0, 0.0, 0.0, 0.0, 0.0, 0.0, 0.0, 0.0, 0.3299999237060547, 0.0, 1.0599994659423828, 0.0, 0.0, 0.0, 0.0, 0.0, 0.0, 0.0, -0.010000228881835938, 0.21000099182128906, 0.1900005340576172, 1.8100013732910156, 1.9399986267089844, 2.690000534057617, 1.1399993896484375, 0.2199993133544922, 0.0, 0.5500011444091797, 0.7399997711181641, 0.4500007629394531, 0.0, 0.0, 0.0, 0.35000038146972656, 0.9099998474121094, 0.21000099182128906, 0.10000038146972656, 0.0, 0.0, 0.0, 0.0, 0.0, 0.0, 0.0, 0.0], [0.0, 0.0, 0.0, 0.0, 0.0, 0.0, 0.0, 0.0, 0.0, 0.0, 0.12999916076660156, 0.20999908447265625, 0.5100002288818359, 0.06999969482421875, 0.25, 0.0, 0.0, 0.0, 0.0, 0.0, 0.0, 0.0, 0.0, 0.4400005340576172, 0.31999969482421875, 0.7299995422363281, -0.010000228881835938, 0.4200000762939453, 0.0, 0.03999900817871094, 0.07999992370605469, 2.940000534057617, 0.0, 0.0, 0.5100002288818359, 0.0, 0.6399993896484375, 0.0, 0.6900005340576172, 0.0, 0.010000228881835938, 0.0, 0.0, 0.0, 0.0, 0.0, 0.0, 0.0, 0.0, 0.0], [0.0, 0.0, 0.0, 0.0, 0.0, 0.0, 0.8500003814697266, 0.6499996185302734, 0.0, 0.0, 0.1399993896484375, 0.7900009155273438, 0.05999946594238281, 0.0, 0.0, 0.0, 0.0, 0.0, 0.0, 0.0, 0.0, 0.0, 0.0, 0.4799995422363281, 0.05999946594238281, 0.0, 0.0, 0.1700000762939453, 0.0, 0.4400005340576172, 0.0, 0.25, 0.0, 0.0, 0.010000228881835938, 0.0, 0.0, 0.0, 0.0, 0.0, 0.0, 0.0, 0.6900005340576172, 0.010000228881835938, 0.0, 0.0, 0.0, 0.0, 0.0, 0.0], [0.0, 0.0, 0.0, 0.0, 0.0, 0.0, 0.0, 0.0, 1.1900005340576172, 0.8500003814697266, 1.3999996185302734, 0.5200004577636719, 0.5100002288818359, 0.0, 0.0, 0.37999916076660156, 0.0, 0.0, 0.0, 0.0, 0.0, 0.0, 0.0, 0.0, 0.0, 0.0, 0.0, 0.0, 0.0, 0.0, 0.0, 0.0, 0.030000686645507812, 0.5100002288818359, 0.7000007629394531, 0.0, 0.0, 0.0, 0.75, 0.5900001525878906, 0.0, 0.0, 0.0, 0.0, 0.0, 0.0, 0.0, 0.0, 0.0, 0.0], [0.0, 0.3800010681152344, 0.0, 0.0, 0.0, 0.0, 0.0, 0.0, 1.6700000762939453, 2.4300003051757812, 0.22999954223632812, 0.43000030517578125, 0.6700000762939453, 1.0799999237060547, 0.7199993133544922, 0.0, 0.0, 0.0, 0.0, 0.0, 4.709999084472656, 11.89999771118164, 12.119998931884766, 9.989999771118164, 9.769998550415039, 0.7600002288818359, 0.0, 0.010000228881835938, 0.0, 0.0, 0.0, 0.0, 0.0, 0.0, 0.10000038146972656, 0.17999839782714844, 0.0, 0.0, 0.0, 0.0, -0.010000228881835938, 0.0, 0.0, 0.0, 0.0, 0.0, 0.0, 0.0, 0.0, 0.0], [0.0, 0.13000106811523438, 0.0, 0.0, 0.0, 0.0, 0.0, 2.270000457763672, 0.0, 1.25, 1.1600017547607422, 0.0, 0.07999992370605469, 0.43000030517578125, 0.0, 0.0, 0.0, 0.0, 0.0, 11.25, 12.070001602172852, 12.280000686645508, 12.700000762939453, 12.619998931884766, 12.410001754760742, 12.200000762939453, 6.909999847412109, 5.029998779296875, 10.180000305175781, 10.280000686645508, 0.0, 0.0, 0.0, 0.0, 0.0, 0.0, 0.0, 0.1700000762939453, 0.7800006866455078, 0.7600002288818359, 0.0, 0.18999862670898438, 0.020000457763671875, 0.0, 0.0, 0.0, 0.0, 0.0, 0.0, 0.0], [0.0, 0.0, 0.0, 0.0, 0.0, 0.0, 0.3899993896484375, 2.3999996185302734, 0.5400009155273438, 1.2800006866455078, 1.1900005340576172, 0.12999916076660156, 0.0, 0.35000038146972656, 0.0, 0.0, 0.0, 0.0, 0.0, 11.950000762939453, 12.260000228881836, 12.979999542236328, 13.320001602172852, 13.389999389648438, 13.209999084472656, 13.0, 12.739999771118164, 12.600000381469727, 12.419998168945312, 12.270000457763672, 11.5, 11.549997329711914, 5.909999847412109, 11.670000076293945, 4.010000228881836, 0.0, 0.0, 0.0, 0.0, 0.0, 0.0, 0.0, 8.600000381469727, 0.0, 0.0, 0.0, 0.0, 0.0, 0.0, 0.0], [0.0, 0.0, 0.0, 0.0, 0.4200000762939453, 0.0, 0.9300003051757812, 0.8099994659423828, 1.010000228881836, 0.5599994659423828, 0.10000038146972656, 0.2700004577636719, 0.0, 0.0, 0.0, 0.0, 0.0, 0.0, 0.2800006866455078, 11.950000762939453, 12.639997482299805, 13.489999771118164, 14.14000129699707, 14.25, 13.94999885559082, 13.780000686645508, 13.569997787475586, 13.379999160766602, 13.170000076293945, 12.989999771118164, 12.759998321533203, 12.619998931884766, 12.369997024536133, 12.210000991821289, 11.899999618530273, 8.740001678466797, 8.919998168945312, 4.319999694824219, 10.69999885559082, 0.0, 0.0, 0.0, 5.469999313354492, 0.0, 0.0, 0.0, 0.0, 0.0, 0.0, 0.26000022888183594], [0.0, 0.0, 0.0, 0.0, 0.0, 0.010000228881835938, 0.10000038146972656, 0.1700000762939453, 0.48000144958496094, 0.05000114440917969, 0.0, 0.0, 0.0, 0.0, 0.0, 0.0, 0.0, 0.0, 8.969999313354492, 12.299999237060547, 13.039999008178711, 13.85999870300293, 14.559999465942383, 15.069997787475586, 14.849998474121094, 14.619998931884766, 14.44999885559082, 14.170001983642578, 13.999998092651367, 13.749998092651367, 13.510000228881836, 13.389999389648438, 13.130001068115234, 13.010000228881836, 12.69000244140625, 12.510000228881836, 12.320001602172852, 12.149999618530273, 12.05999755859375, 10.130001068115234, 11.690000534057617, 1.75, 3.1099987030029297, 0.0, 5.170000076293945, 0.0, 0.0, 0.0, 0.0, 0.0], [0.0, 0.0, 0.0, 0.0, 0.0, 0.0, 0.3899993896484375, 0.7399997711181641, 0.6200008392333984, 0.1900005340576172, 0.4500007629394531, 0.0, 0.0, 0.0, 0.0, 0.0, 0.0, 0.0, 10.740001678466797, 12.569997787475586, 13.349998474121094, 14.129999160766602, 14.85999870300293, 14.799999237060547, 14.610000610351562, 14.739999771118164, 14.929998397827148, 14.970001220703125, 14.829998016357422, 14.59000015258789, 14.34000015258789, 14.10999870300293, 13.930000305175781, 13.679998397827148, 13.479999542236328, 13.280000686645508, 13.040000915527344, 12.909997940063477, 12.749998092651367, 12.579998016357422, 12.409997940063477, 12.220001220703125, 12.80000114440918, 4.80000114440918, 10.839998245239258, 4.460000991821289, 10.39000129699707, 12.179998397827148, 5.049999237060547, 0.0], [0.0, 0.0, 0.0, 0.0, 0.0, 2.239999771118164, 2.4099998474121094, 0.6200008392333984, 0.1900005340576172, 0.0, 0.0, 0.0, 0.0, 0.0, 0.0, 0.0, 0.0, 0.0, 12.209999084472656, 12.850000381469727, 13.620000839233398, 14.330001831054688, 15.069997787475586, 15.139997482299805, 13.830001831054688, 13.959999084472656, 14.079999923706055, 14.180002212524414, 14.410001754760742, 14.630001068115234, 14.799999237060547, 14.950000762939453, 14.729999542236328, 14.399999618530273, 14.19999885559082, 14.029998779296875, 13.80999755859375, 13.60999870300293, 13.469999313354492, 13.299997329711914, 13.139999389648438, 12.979997634887695, 13.55000114440918, 13.399999618530273, 13.099998474121094, 12.799997329711914, 12.479999542236328, 12.360000610351562, 12.299999237060547, 4.079999923706055], [0.0, 0.0, 0.0, 0.0, 0.010000228881835938, 0.0, 2.200000762939453, 1.4400005340576172, 0.0, 0.0, 0.0, 0.0, 0.0, 0.0, 0.0, 0.0, 0.010000228881835938, 6.579999923706055, 12.35999870300293, 13.069997787475586, 13.810001373291016, 14.540000915527344, 14.94999885559082, 14.160001754760742, 13.380001068115234, 13.079998016357422, 13.200000762939453, 13.419998168945312, 13.559999465942383, 13.740001678466797, 13.899999618530273, 14.069999694824219, 14.840002059936523, 14.439998626708984, 14.539999008178711, 14.64999771118164, 14.529998779296875, 14.380001068115234, 14.180000305175781, 14.029998779296875, 13.860000610351562, 15.059999465942383, 14.30999755859375, 14.070001602172852, 13.780000686645508, 13.480001449584961, 13.309999465942383, 13.279996871948242, 13.200000762939453, 12.989999771118164], [0.0, 0.0, 0.0, 0.0, 0.6199989318847656, 1.6200008392333984, 0.37000083923339844, 0.0, 0.0, 0.0, 0.0, 0.0, 0.0, 0.0, 0.0, 0.0, 0.0, 6.700000762939453, 12.539999008178711, 13.259998321533203, 14.029998779296875, 14.790000915527344, 14.610000610351562, 13.819997787475586, 13.010000228881836, 12.260000228881836, 12.40999984741211, 12.569999694824219, 12.740001678466797, 12.90999984741211, 13.059999465942383, 13.200000762939453, 13.409997940063477, 13.530000686645508, 13.739999771118164, 13.879999160766602, 13.979999542236328, 14.170000076293945, 14.40999984741211, 14.59000015258789, 14.510000228881836, 15.259998321533203, 14.999998092651367, 14.799999237060547, 14.490001678466797, 14.239997863769531, 14.189998626708984, 14.039997100830078, 13.889999389648438, 13.760000228881836], [0.0, 0.0, 0.0, 0.0, 0.0, 2.3700008392333984, 1.8099994659423828, 0.07000160217285156, 0.0, 0.0, 0.0, 0.0, 0.0, 0.20000076293945312, 0.0, 0.0, 3.6100006103515625, 12.130001068115234, 12.760000228881836, 13.530000686645508, 14.280000686645508, 15.029998779296875, 14.299999237060547, 13.509998321533203, 12.720001220703125, 11.940000534057617, 8.44000244140625, 11.870000839233398, 11.94999885559082, 12.059999465942383, 12.259998321533203, 12.39999771118164, 12.519998550415039, 12.700000762939453, 12.779998779296875, 12.94999885559082, 13.100000381469727, 13.239999771118164, 13.46999740600586, 13.669998168945312, 13.730001449584961, 15.989997863769531, 15.780000686645508, 15.489999771118164, 15.259998321533203, 15.169998168945312, 15.010000228881836, 14.860000610351562, 14.649999618530273, 14.460000991821289], [0.0, 0.0, 0.0, 0.0, 0.0, 0.0, 0.9799995422363281, 0.1400012969970703, 0.0, 0.0, 0.0, 0.0, 0.0, 0.09000015258789062, 0.0, 0.0, 11.920000076293945, 12.369998931884766, 12.990001678466797, 13.740001678466797, 14.489999771118164, 15.059999465942383, 13.999998092651367, 13.19999885559082, 12.419998168945312, 10.0, 2.9599990844726562, 2.9499988555908203, 4.30000114440918, 5.190000534057617, 7.099998474121094, 11.500001907348633, 11.690000534057617, 11.770000457763672, 11.959999084472656, 12.099998474121094, 12.19999885559082, 12.430000305175781, 12.600000381469727, 12.760000228881836, 12.910001754760742, 15.630001068115234, 15.75, 15.84000015258789, 16.05000114440918, 15.979997634887695, 15.799997329711914, 15.710000991821289, 15.410001754760742, 15.259998321533203], [0.0, 0.0, 0.0, 0.0, 0.0, 0.0, 0.0, 0.0, 0.0, 0.0, 0.0, 0.0, 0.07999992370605469, 0.7300014495849609, 0.0, 0.0, 12.030000686645508, 12.529998779296875, 13.239999771118164, 13.94999885559082, 14.680000305175781, 14.400001525878906, 13.620000839233398, 12.830001831054688, 12.030000686645508, 8.85999870300293, 2.7900009155273438, 2.780000686645508, 2.779998779296875, 2.8499984741210938, 2.739999771118164, 2.6000003814697266, 2.059999465942383, 8.530000686645508, 6.190000534057617, 10.610000610351562, 11.380001068115234, 11.489999771118164, 11.600000381469727, 11.819999694824219, 11.999998092651367, 14.710000991821289, 14.819997787475586, 14.979997634887695, 15.180000305175781, 15.439998626708984, 15.610000610351562, 15.829998016357422, 16.079999923706055, 16.089998245239258], [0.0, 0.0, 0.0, 0.0, 0.0, 0.0, 0.37999916076660156, 0.5100002288818359, 0.0, 0.0, 0.0, 0.0, 0.0, 2.0799999237060547, 0.0, 0.0, 12.19999885559082, 12.790000915527344, 13.5, 14.229999542236328, 14.920000076293945, 14.05000114440918, 13.260002136230469, 12.459999084472656, 11.639997482299805, 3.489999771118164, 2.8999996185302734, 2.719999313354492, 2.710000991821289, 2.9200000762939453, 2.6800003051757812, 2.4599990844726562, 2.0, 2.270000457763672, 2.4299983978271484, 3.5, 10.539999008178711, 10.680000305175781, 10.789999008178711, 10.94999885559082, 14.319999694824219, 13.84000015258789, 13.989999771118164, 14.189998626708984, 14.360000610351562, 14.559999465942383, 14.829999923706055, 15.009998321533203, 15.179998397827148, 15.270000457763672], [0.0, 0.0, 0.0, 0.0, 0.0, 0.0, 0.0, 0.0, 0.0, 0.0, 0.0, 0.0, 0.0, 0.0, 0.0, 11.989997863769531, 12.44999885559082, 13.15999984741211, 13.820001602172852, 14.539999008178711, 14.60999870300293, 13.770000457763672, 12.96999740600586, 12.160001754760742, 7.329999923706055, 3.719999313354492, 3.4299983978271484, 3.1599998474121094, 2.8600006103515625, 2.6799983978271484, 2.6300010681152344, 1.9699993133544922, 2.029998779296875, 2.3700008392333984, 2.489999771118164, 3.4300003051757812, 2.9499988555908203, 4.450000762939453, 6.94000244140625, 9.670000076293945, 12.870000839233398, 12.979999542236328, 13.160001754760742, 13.35999870300293, 13.510002136230469, 13.729999542236328, 13.930000305175781, 14.10999870300293, 14.280000686645508, 14.309999465942383], [0.0, 0.0, 0.0, 0.0, 0.0, 0.0, 0.0, 0.0, 0.0, 0.0, 0.0, 0.0, 0.0, 0.0, 0.43000030517578125, 12.09000015258789, 12.760000228881836, 13.440000534057617, 14.110000610351562, 14.89000129699707, 14.34000015258789, 13.510000228881836, 12.670000076293945, 11.869998931884766, 4.659999847412109, 4.3600006103515625, 4.039999008178711, 3.75, 3.479999542236328, 3.1700000762939453, 2.9200000762939453, 2.6299991607666016, 2.3299999237060547, 2.190000534057617, 3.3799991607666016, 2.960000991821289, 2.940000534057617, 1.3400001525878906, 2.9300003051757812, 3.809999465942383, 11.89999771118164, 12.219999313354492, 12.339998245239258, 12.529998779296875, 12.680000305175781, 12.920001983642578, 13.069997787475586, 13.259998321533203, 13.440000534057617, 13.559999465942383], [0.0, 0.0, 0.0, 0.0, 0.0, 0.0, 0.0, 0.0, 0.0, 0.0, 0.0, 0.0, 0.0, 0.0, 9.690000534057617, 12.319999694824219, 12.979999542236328, 13.649999618530273, 14.309999465942383, 14.990001678466797, 15.80999755859375, 16.079999923706055, 13.94999885559082, 11.60999870300293, 5.299999237060547, 4.960000991821289, 4.709999084472656, 4.39000129699707, 4.069999694824219, 3.8000011444091797, 3.530000686645508, 3.270000457763672, 2.9099998474121094, 3.1899986267089844, 3.0, 3.1800003051757812, 2.9299983978271484, 2.489999771118164, 2.8899993896484375, 3.6199989318847656, 0.9200000762939453, 6.929998397827148, 11.430000305175781, 11.679998397827148, 11.84000015258789, 12.09000015258789, 12.179998397827148, 12.439998626708984, 12.600000381469727, 12.71999740600586], [0.0, 0.0, 0.0, 0.0, 0.0, 0.0, 0.0, 0.0, 0.0, 0.0, 0.0, 0.0, 0.0, 0.0, 6.350000381469727, 12.450000762939453, 13.179998397827148, 13.879999160766602, 14.599998474121094, 13.919998168945312, 15.940000534057617, 15.75, 15.049999237060547, 14.309999465942383, 13.499998092651367, 6.409999847412109, 5.379999160766602, 5.069999694824219, 4.760000228881836, 4.44999885559082, 4.170000076293945, 3.8999996185302734, 3.5900001525878906, 3.019998550415039, 2.979999542236328, 2.969999313354492, 2.950000762939453, 2.8999996185302734, 4.879999160766602, 0.09000015258789062, 0.010000228881835938, 0.0, 0.010000228881835938, 4.799999237060547, 9.350000381469727, 8.759998321533203, 10.600000381469727, 8.040000915527344, 11.850000381469727, 11.96999740600586], [0.0, 0.0, 0.0, 0.0, 0.0, 0.0, 0.0, 0.0, 0.0, 0.0, 0.0, 0.0, 0.0, 0.0, 12.039999008178711, 12.679998397827148, 13.40999984741211, 14.120000839233398, 14.799999237060547, 15.470001220703125, 16.189998626708984, 15.539999008178711, 14.719999313354492, 13.959999084472656, 13.239997863769531, 12.440000534057617, 11.739999771118164, 5.779998779296875, 5.479999542236328, 5.149999618530273, 4.829999923706055, 4.549999237060547, 4.920000076293945, 3.229999542236328, 3.1200008392333984, 3.0, 2.960000991821289, 2.9499988555908203, 5.079999923706055, 0.0, 0.0, 0.0, 3.089998245239258, 2.5699996948242188, 2.5699996948242188, 2.8600006103515625, 3.729999542236328, 3.559999465942383, 5.060001373291016, 10.010000228881836], [0.0, 0.0, 0.0, 0.0, 0.0, 0.0, 0.0, 0.0, 0.0, 0.0, 0.0, 0.0, 0.0, 11.849998474121094, 11.340002059936523, 12.929998397827148, 13.589998245239258, 14.309999465942383, 15.019998550415039, 15.740001678466797, 15.969999313354492, 15.160001754760742, 14.399999618530273, 13.699996948242188, 12.94999885559082, 12.249998092651367, 11.450000762939453, 3.5, 3.6599998474121094, 5.849998474121094, 5.530000686645508, 5.260000228881836, 3.5, 3.1000003814697266, 3.0600013732910156, 3.280000686645508, 3.010000228881836, 5.319999694824219, 5.560001373291016, 4.80000114440918, 0.0, 3.059999465942383, 2.6199989318847656, 2.5, 2.5, 3.729999542236328, 3.549999237060547, 3.4200000762939453, 3.3299999237060547, 3.1700000762939453], [0.0, 0.0, 0.0, 0.0, 0.0, 0.0, 0.0, 0.0, 0.0, 0.0, 0.0, 0.0, 0.0, 11.90999984741211, 12.510000228881836, 13.190000534057617, 13.910001754760742, 14.35999870300293, 14.579999923706055, 14.889999389648438, 15.179998397827148, 14.909997940063477, 14.150001525878906, 13.419998168945312, 12.64000129699707, 11.940000534057617, 7.719999313354492, 3.519998550415039, 3.470001220703125, 3.4300003051757812, 3.510000228881836, 3.3599987030029297, 3.3299999237060547, 3.4300003051757812, 3.0699996948242188, 3.0900001525878906, 3.25, 6.539999008178711, 6.069999694824219, 5.539999008178711, 4.960000991821289, 2.6499996185302734, 2.5799999237060547, 2.6200008392333984, 3.780000686645508, 3.6100006103515625, 3.4300003051757812, 3.260000228881836, 3.1100006103515625, 2.809999465942383], [0.0, 0.0, 0.0, 0.0, 0.0, 0.0, 0.0, 0.0, 0.0, 0.0, 0.0, 0.0, 0.0, 12.239999771118164, 12.519998550415039, 12.869998931884766, 13.099998474121094, 13.440000534057617, 13.719999313354492, 14.010000228881836, 14.389997482299805, 14.71999740600586, 13.85999870300293, 13.120000839233398, 12.430000305175781, 11.71999740600586, 3.520000457763672, 3.5, 3.450000762939453, 3.4200000762939453, 3.4000015258789062, 3.3500003814697266, 3.3200016021728516, 3.25, 3.450000762939453, 3.1299991607666016, 5.509998321533203, 6.059999465942383, 6.620000839233398, 6.049999237060547, 5.430000305175781, 4.239999771118164, 3.440000534057617, 3.8299999237060547, 3.6700000762939453, 3.479999542236328, 3.3199996948242188, 3.1700000762939453, 2.989999771118164, 2.6200008392333984], [0.0, 0.0, 0.0, 0.0, 0.0, 0.0, 0.0, 0.0, 0.0, 0.0, 0.0, 0.0, 0.0, 0.0, 2.4200000762939453, 8.040000915527344, 11.799997329711914, 12.579998016357422, 12.879999160766602, 11.820001602172852, 13.559999465942383, 13.819997787475586, 13.630001068115234, 12.849998474121094, 12.190000534057617, 10.35999870300293, 3.520000457763672, 3.489999771118164, 3.450000762939453, 3.4099998474121094, 3.3800010681152344, 3.2900009155273438, 3.3100013732910156, 3.3000011444091797, 3.2900009155273438, 4.409999847412109, 4.989999771118164, 5.5, 5.899999618530273, 6.400001525878906, 5.899999618530273, 5.309999465942383, 4.729999542236328, 3.729999542236328, 3.539999008178711, 3.3700008392333984, 3.190000534057617, 3.0699996948242188, 2.8900012969970703, 2.5400009155273438], [0.0, 0.0, 0.0, 0.0, 0.0, 0.0, 0.0, 0.0, 0.0, 0.0, 0.0, 0.0, 0.0, 0.0, 0.0, 0.0, 4.19999885559082, 10.440000534057617, 11.970001220703125, 9.429998397827148, 12.649999618530273, 12.959997177124023, 13.289999008178711, 12.610000610351562, 11.899999618530273, 3.5699996948242188, 3.5400009155273438, 3.479999542236328, 3.4499988555908203, 3.3799991607666016, 3.309999465942383, 3.3600006103515625, 3.3199996948242188, 3.3199996948242188, 3.260000228881836, 3.219999313354492, 4.489999771118164, 4.8899993896484375, 5.370000839233398, 5.689998626708984, 6.25, 5.739999771118164, 5.1399993896484375, 4.559999465942383, 3.4200000762939453, 3.259998321533203, 3.0900001525878906, 2.950000762939453, 2.770000457763672, 2.489999771118164], [0.0, 0.0, 0.0, 0.0, 0.0, 0.0, 0.0, 0.0, 0.0, 0.7699985504150391, 0.0, 0.049999237060546875, 0.0, 0.0, 0.0, 0.0, 0.0, 0.0, 0.0, 3.739999771118164, 11.479999542236328, 12.100000381469727, 12.430000305175781, 12.39000129699707, 11.630001068115234, 3.5699996948242188, 3.530000686645508, 3.4499988555908203, 3.3400001525878906, 3.3499984741210938, 3.4300003051757812, 3.3199996948242188, 3.3500003814697266, 3.289999008178711, 3.270000457763672, 3.279998779296875, 3.280000686645508, 4.079999923706055, 4.60999870300293, 5.029998779296875, 5.959999084472656, 5.909999847412109, 5.629999160766602, 4.950000762939453, 4.44999885559082, 3.259998321533203, 2.969999313354492, 2.809999465942383, 2.5400009155273438, 2.4200000762939453], [0.0, 0.0, 0.0, 0.0, 0.0, 0.0, 0.0, 0.6100006103515625, 0.5200004577636719, 1.2800006866455078, 0.5900001525878906, 0.8400001525878906, 0.0, 0.0, 0.0, 0.010000228881835938, 0.0, 0.0, 0.0, 0.0, 0.0, 3.799999237060547, 5.819999694824219, 11.930000305175781, 8.209999084472656, 3.539999008178711, 3.4499988555908203, 3.3600006103515625, 3.4399986267089844, 3.479999542236328, 3.3199996948242188, 3.3999996185302734, 3.3199996948242188, 3.3000011444091797, 3.3199996948242188, 3.299999237060547, 3.190000534057617, 3.0600013732910156, 3.789999008178711, 4.420000076293945, 4.75, 5.1399993896484375, 5.770000457763672, 5.540000915527344, 4.850000381469727, 4.430000305175781, 3.3599987030029297, 2.6999988555908203, 2.6799983978271484, 2.3700008392333984], [0.0, 0.0, 0.0, 0.0, 0.0, 0.0, 0.0, 0.0, 0.0, 0.0, 0.0, 0.7399997711181641, 0.0, 0.0, 1.6700000762939453, 0.010000228881835938, 0.010000228881835938, 0.029998779296875, 0.0, 0.0, 0.0, 0.8800010681152344, 1.2299995422363281, 0.3600006103515625, 1.0, 3.5900001525878906, 3.5900001525878906, 3.5, 3.549999237060547, 3.309999465942383, 3.4300003051757812, 3.3999996185302734, 3.3299999237060547, 3.3299999237060547, 3.3299999237060547, 3.220001220703125, 3.0700016021728516, 2.9499988555908203, 2.8199996948242188, 3.5, 4.1100006103515625, 4.469999313354492, 5.069999694824219, 5.689998626708984, 5.299999237060547, 4.760000228881836, 4.309999465942383, 3.6999988555908203, 2.7099990844726562, 2.5699996948242188], [0.0, 0.0, 0.0, 0.0, 0.0, 0.0, 0.0, 0.010000228881835938, 1.3899993896484375, 1.3899993896484375, 0.6200008392333984, 0.0, 0.0, 0.010000228881835938, 0.10000038146972656, 0.0, 0.0, 0.0, 0.0, 0.0, 0.0, 0.5900001525878906, 1.3500003814697266, 0.8400001525878906, 0.8099994659423828, 0.6700000762939453, 0.0, 2.589998245239258, 3.3299999237060547, 3.480001449584961, 3.450000762939453, 3.4099998474121094, 3.3299999237060547, 3.4199981689453125, 3.270000457763672, 3.1300010681152344, 3.009998321533203, 2.8799991607666016, 2.75, 2.6400012969970703, 3.6000003814697266, 3.8799991607666016, 4.369998931884766, 4.920000076293945, 5.3600006103515625, 5.229999542236328, 4.690000534057617, 4.260000228881836, 3.5699996948242188, 2.6099987030029297], [0.0, 0.0, 0.0, 0.0, 0.0, 0.0, 0.0, 0.0, 0.4699993133544922, 1.239999771118164, 0.9400005340576172, 0.4200000762939453, 0.0, 0.0, 2.519998550415039, 2.6499996185302734, 1.4500007629394531, 0.0, 0.0, 0.0, 0.0, 0.0, 0.0, 0.0, 0.2999992370605469, 2.559999465942383, 2.539999008178711, 1.9099998474121094, 0.0, 0.010000228881835938, 3.6800003051757812, 3.4200000762939453, 3.440000534057617, 3.3299999237060547, 3.190000534057617, 3.0799999237060547, 2.940000534057617, 2.799999237060547, 2.6599998474121094, 2.520000457763672, 2.4099998474121094, 2.6100006103515625, 1.039999008178711, 4.260000228881836, 4.649999618530273, 5.280000686645508, 5.170000076293945, 4.629999160766602, 4.170000076293945, 3.1599998474121094], [0.0, 0.0, 0.0, 0.0, 0.0, 0.0, 0.04000091552734375, 1.3700008392333984, 1.239999771118164, 0.4099998474121094, 0.0, 0.20999908447265625, 0.9699993133544922, 3.269998550415039, 1.75, 6.990001678466797, 3.190000534057617, 0.0, 0.0, 0.0, 0.0, 0.0, 0.0, 0.0, 0.0, 0.7999992370605469, 2.519998550415039, 2.539999008178711, 2.480001449584961, 2.299999237060547, 0.6000003814697266, 0.0, 3.5900001525878906, 3.3000011444091797, 3.1200008392333984, 3.0, 2.8299999237060547, 2.690000534057617, 2.5699996948242188, 2.440000534057617, 2.3100013732910156, 3.029998779296875, 1.2299995422363281, 3.729999542236328, 4.05000114440918, 4.510000228881836, 5.120000839233398, 5.1100006103515625, 4.549999237060547, 4.100000381469727], [0.0, 0.0, 0.0, 0.0, 0.0, 0.1700000762939453, 0.10000038146972656, 1.0500011444091797, 0.7399997711181641, 0.8600006103515625, 0.05999946594238281, 2.6400012969970703, 1.7199993133544922, 1.1100006103515625, 0.0, 3.1700000762939453, 5.930000305175781, 2.3400001525878906, 0.0, 0.0, 0.0, 0.0, 0.0, 0.0, 0.0, 0.0, 0.0, 1.4400005340576172, 2.489999771118164, 2.1999988555908203, 1.3599987030029297, 0.0, 3.3400001525878906, 3.1000003814697266, 2.9099998474121094, 2.770000457763672, 2.690000534057617, 2.5799999237060547, 2.4099998474121094, 2.289999008178711, 2.729999542236328, 2.0900001525878906, 0.010000228881835938, 0.31999969482421875, 2.539999008178711, 3.9399986267089844, 4.5, 5.180000305175781, 5.059999465942383, 4.5], [0.0, 0.0, 0.0, 0.0, 0.0, 0.0, 0.0, 0.0, 0.0, 0.0, 1.0, 1.8299999237060547, 0.5500011444091797, 0.010000228881835938, 0.6399993896484375, 0.010000228881835938, 0.12000083923339844, 2.690000534057617, 0.0, 0.0, 0.0, 0.0, 0.0, 0.0, 0.0, 0.0, 0.0, 0.0, 0.0, 0.0, 0.8999996185302734, 2.25, 3.0, 2.989999771118164, 2.780000686645508, 2.6000003814697266, 2.460000991821289, 2.3000011444091797, 2.1700000762939453, 2.4099998474121094, 0.0, 0.0, -0.05000114440917969, 0.05999946594238281, 0.4799995422363281, 3.3899993896484375, 3.8999996185302734, 4.459999084472656, 4.999998092651367, 5.0], [0.0, 0.0, 0.0, 0.0, 0.0, 1.0499992370605469, 1.6299991607666016, 1.2299995422363281, 0.8099994659423828, 0.0, 0.05999946594238281, 0.6599998474121094, 0.010000228881835938, 0.0, 1.2199993133544922, -0.010000228881835938, -0.030000686645507812, 0.0, 1.7800006866455078, 2.25, 0.0, 0.0, 0.0, 0.0, 0.0, 0.0, 0.0, 0.0, 0.0, 0.0, 0.0, 2.700000762939453, 2.3800010681152344, 2.450000762939453, 2.510000228881836, 2.4099998474121094, 2.240001678466797, 2.1700000762939453, 2.030000686645508, 0.1900005340576172, 0.0, 0.0, 0.0, 0.0, 0.0, 1.5900001525878906, 3.4099998474121094, 3.8100013732910156, 4.350000381469727, 4.85999870300293], [0.0, 0.0, 0.0, 0.0, 0.0, 0.0, 0.43000030517578125, 1.0200004577636719, 1.039999008178711, 0.5799999237060547, 0.1399993896484375, 0.0, 0.18999862670898438, 0.0, 0.0, 0.0, -0.010000228881835938, 0.3299999237060547, 1.3499984741210938, 1.6899986267089844, -0.3400001525878906, 0.0, 0.0, 0.0, 0.0, 0.0, 0.0, 0.0, 0.0, 0.0, 0.0, 1.4799995422363281, 1.6400012969970703, 1.8199996948242188, 1.8900012969970703, 1.9500007629394531, 2.049999237060547, 1.970001220703125, 0.0, -0.010000228881835938, 0.029998779296875, 0.0, 0.0, 0.0, 0.0, 0.0, 1.6400012969970703, 3.469999313354492, 3.9099998474121094, 4.340000152587891], [0.0, 0.0, 0.0, 0.0, 0.0, 0.5799999237060547, 0.09000015258789062, 0.0, 0.0, 0.0, 0.0, 0.0, 0.0, 1.0300006866455078, 0.010000228881835938, 0.0, 0.010000228881835938, -0.05000114440917969, 0.5, 0.0, 1.5600013732910156, 1.3899993896484375, 0.5799999237060547, 0.0, 0.010000228881835938, 0.0, 0.0, 0.0, 0.0, 0.0, 1.4500007629394531, 0.0, 1.010000228881836, 1.239999771118164, 1.289999008178711, 1.3699989318847656, 1.5200004577636719, 2.25, 0.0, 0.0, 0.0, 0.09000015258789062, 0.0, 0.0, 0.0, 0.0, 0.1100006103515625, 2.25, 3.4599990844726562, 3.8400001525878906]]}],                        {\"scene\": {\"yaxis\": {\"autorange\": \"reversed\"}}, \"template\": {\"data\": {\"bar\": [{\"error_x\": {\"color\": \"#2a3f5f\"}, \"error_y\": {\"color\": \"#2a3f5f\"}, \"marker\": {\"line\": {\"color\": \"#E5ECF6\", \"width\": 0.5}}, \"type\": \"bar\"}], \"barpolar\": [{\"marker\": {\"line\": {\"color\": \"#E5ECF6\", \"width\": 0.5}}, \"type\": \"barpolar\"}], \"carpet\": [{\"aaxis\": {\"endlinecolor\": \"#2a3f5f\", \"gridcolor\": \"white\", \"linecolor\": \"white\", \"minorgridcolor\": \"white\", \"startlinecolor\": \"#2a3f5f\"}, \"baxis\": {\"endlinecolor\": \"#2a3f5f\", \"gridcolor\": \"white\", \"linecolor\": \"white\", \"minorgridcolor\": \"white\", \"startlinecolor\": \"#2a3f5f\"}, \"type\": \"carpet\"}], \"choropleth\": [{\"colorbar\": {\"outlinewidth\": 0, \"ticks\": \"\"}, \"type\": \"choropleth\"}], \"contour\": [{\"colorbar\": {\"outlinewidth\": 0, \"ticks\": \"\"}, \"colorscale\": [[0.0, \"#0d0887\"], [0.1111111111111111, \"#46039f\"], [0.2222222222222222, \"#7201a8\"], [0.3333333333333333, \"#9c179e\"], [0.4444444444444444, \"#bd3786\"], [0.5555555555555556, \"#d8576b\"], [0.6666666666666666, \"#ed7953\"], [0.7777777777777778, \"#fb9f3a\"], [0.8888888888888888, \"#fdca26\"], [1.0, \"#f0f921\"]], \"type\": \"contour\"}], \"contourcarpet\": [{\"colorbar\": {\"outlinewidth\": 0, \"ticks\": \"\"}, \"type\": \"contourcarpet\"}], \"heatmap\": [{\"colorbar\": {\"outlinewidth\": 0, \"ticks\": \"\"}, \"colorscale\": [[0.0, \"#0d0887\"], [0.1111111111111111, \"#46039f\"], [0.2222222222222222, \"#7201a8\"], [0.3333333333333333, \"#9c179e\"], [0.4444444444444444, \"#bd3786\"], [0.5555555555555556, \"#d8576b\"], [0.6666666666666666, \"#ed7953\"], [0.7777777777777778, \"#fb9f3a\"], [0.8888888888888888, \"#fdca26\"], [1.0, \"#f0f921\"]], \"type\": \"heatmap\"}], \"heatmapgl\": [{\"colorbar\": {\"outlinewidth\": 0, \"ticks\": \"\"}, \"colorscale\": [[0.0, \"#0d0887\"], [0.1111111111111111, \"#46039f\"], [0.2222222222222222, \"#7201a8\"], [0.3333333333333333, \"#9c179e\"], [0.4444444444444444, \"#bd3786\"], [0.5555555555555556, \"#d8576b\"], [0.6666666666666666, \"#ed7953\"], [0.7777777777777778, \"#fb9f3a\"], [0.8888888888888888, \"#fdca26\"], [1.0, \"#f0f921\"]], \"type\": \"heatmapgl\"}], \"histogram\": [{\"marker\": {\"colorbar\": {\"outlinewidth\": 0, \"ticks\": \"\"}}, \"type\": \"histogram\"}], \"histogram2d\": [{\"colorbar\": {\"outlinewidth\": 0, \"ticks\": \"\"}, \"colorscale\": [[0.0, \"#0d0887\"], [0.1111111111111111, \"#46039f\"], [0.2222222222222222, \"#7201a8\"], [0.3333333333333333, \"#9c179e\"], [0.4444444444444444, \"#bd3786\"], [0.5555555555555556, \"#d8576b\"], [0.6666666666666666, \"#ed7953\"], [0.7777777777777778, \"#fb9f3a\"], [0.8888888888888888, \"#fdca26\"], [1.0, \"#f0f921\"]], \"type\": \"histogram2d\"}], \"histogram2dcontour\": [{\"colorbar\": {\"outlinewidth\": 0, \"ticks\": \"\"}, \"colorscale\": [[0.0, \"#0d0887\"], [0.1111111111111111, \"#46039f\"], [0.2222222222222222, \"#7201a8\"], [0.3333333333333333, \"#9c179e\"], [0.4444444444444444, \"#bd3786\"], [0.5555555555555556, \"#d8576b\"], [0.6666666666666666, \"#ed7953\"], [0.7777777777777778, \"#fb9f3a\"], [0.8888888888888888, \"#fdca26\"], [1.0, \"#f0f921\"]], \"type\": \"histogram2dcontour\"}], \"mesh3d\": [{\"colorbar\": {\"outlinewidth\": 0, \"ticks\": \"\"}, \"type\": \"mesh3d\"}], \"parcoords\": [{\"line\": {\"colorbar\": {\"outlinewidth\": 0, \"ticks\": \"\"}}, \"type\": \"parcoords\"}], \"pie\": [{\"automargin\": true, \"type\": \"pie\"}], \"scatter\": [{\"marker\": {\"colorbar\": {\"outlinewidth\": 0, \"ticks\": \"\"}}, \"type\": \"scatter\"}], \"scatter3d\": [{\"line\": {\"colorbar\": {\"outlinewidth\": 0, \"ticks\": \"\"}}, \"marker\": {\"colorbar\": {\"outlinewidth\": 0, \"ticks\": \"\"}}, \"type\": \"scatter3d\"}], \"scattercarpet\": [{\"marker\": {\"colorbar\": {\"outlinewidth\": 0, \"ticks\": \"\"}}, \"type\": \"scattercarpet\"}], \"scattergeo\": [{\"marker\": {\"colorbar\": {\"outlinewidth\": 0, \"ticks\": \"\"}}, \"type\": \"scattergeo\"}], \"scattergl\": [{\"marker\": {\"colorbar\": {\"outlinewidth\": 0, \"ticks\": \"\"}}, \"type\": \"scattergl\"}], \"scattermapbox\": [{\"marker\": {\"colorbar\": {\"outlinewidth\": 0, \"ticks\": \"\"}}, \"type\": \"scattermapbox\"}], \"scatterpolar\": [{\"marker\": {\"colorbar\": {\"outlinewidth\": 0, \"ticks\": \"\"}}, \"type\": \"scatterpolar\"}], \"scatterpolargl\": [{\"marker\": {\"colorbar\": {\"outlinewidth\": 0, \"ticks\": \"\"}}, \"type\": \"scatterpolargl\"}], \"scatterternary\": [{\"marker\": {\"colorbar\": {\"outlinewidth\": 0, \"ticks\": \"\"}}, \"type\": \"scatterternary\"}], \"surface\": [{\"colorbar\": {\"outlinewidth\": 0, \"ticks\": \"\"}, \"colorscale\": [[0.0, \"#0d0887\"], [0.1111111111111111, \"#46039f\"], [0.2222222222222222, \"#7201a8\"], [0.3333333333333333, \"#9c179e\"], [0.4444444444444444, \"#bd3786\"], [0.5555555555555556, \"#d8576b\"], [0.6666666666666666, \"#ed7953\"], [0.7777777777777778, \"#fb9f3a\"], [0.8888888888888888, \"#fdca26\"], [1.0, \"#f0f921\"]], \"type\": \"surface\"}], \"table\": [{\"cells\": {\"fill\": {\"color\": \"#EBF0F8\"}, \"line\": {\"color\": \"white\"}}, \"header\": {\"fill\": {\"color\": \"#C8D4E3\"}, \"line\": {\"color\": \"white\"}}, \"type\": \"table\"}]}, \"layout\": {\"annotationdefaults\": {\"arrowcolor\": \"#2a3f5f\", \"arrowhead\": 0, \"arrowwidth\": 1}, \"autotypenumbers\": \"strict\", \"coloraxis\": {\"colorbar\": {\"outlinewidth\": 0, \"ticks\": \"\"}}, \"colorscale\": {\"diverging\": [[0, \"#8e0152\"], [0.1, \"#c51b7d\"], [0.2, \"#de77ae\"], [0.3, \"#f1b6da\"], [0.4, \"#fde0ef\"], [0.5, \"#f7f7f7\"], [0.6, \"#e6f5d0\"], [0.7, \"#b8e186\"], [0.8, \"#7fbc41\"], [0.9, \"#4d9221\"], [1, \"#276419\"]], \"sequential\": [[0.0, \"#0d0887\"], [0.1111111111111111, \"#46039f\"], [0.2222222222222222, \"#7201a8\"], [0.3333333333333333, \"#9c179e\"], [0.4444444444444444, \"#bd3786\"], [0.5555555555555556, \"#d8576b\"], [0.6666666666666666, \"#ed7953\"], [0.7777777777777778, \"#fb9f3a\"], [0.8888888888888888, \"#fdca26\"], [1.0, \"#f0f921\"]], \"sequentialminus\": [[0.0, \"#0d0887\"], [0.1111111111111111, \"#46039f\"], [0.2222222222222222, \"#7201a8\"], [0.3333333333333333, \"#9c179e\"], [0.4444444444444444, \"#bd3786\"], [0.5555555555555556, \"#d8576b\"], [0.6666666666666666, \"#ed7953\"], [0.7777777777777778, \"#fb9f3a\"], [0.8888888888888888, \"#fdca26\"], [1.0, \"#f0f921\"]]}, \"colorway\": [\"#636efa\", \"#EF553B\", \"#00cc96\", \"#ab63fa\", \"#FFA15A\", \"#19d3f3\", \"#FF6692\", \"#B6E880\", \"#FF97FF\", \"#FECB52\"], \"font\": {\"color\": \"#2a3f5f\"}, \"geo\": {\"bgcolor\": \"white\", \"lakecolor\": \"white\", \"landcolor\": \"#E5ECF6\", \"showlakes\": true, \"showland\": true, \"subunitcolor\": \"white\"}, \"hoverlabel\": {\"align\": \"left\"}, \"hovermode\": \"closest\", \"mapbox\": {\"style\": \"light\"}, \"paper_bgcolor\": \"white\", \"plot_bgcolor\": \"#E5ECF6\", \"polar\": {\"angularaxis\": {\"gridcolor\": \"white\", \"linecolor\": \"white\", \"ticks\": \"\"}, \"bgcolor\": \"#E5ECF6\", \"radialaxis\": {\"gridcolor\": \"white\", \"linecolor\": \"white\", \"ticks\": \"\"}}, \"scene\": {\"xaxis\": {\"backgroundcolor\": \"#E5ECF6\", \"gridcolor\": \"white\", \"gridwidth\": 2, \"linecolor\": \"white\", \"showbackground\": true, \"ticks\": \"\", \"zerolinecolor\": \"white\"}, \"yaxis\": {\"backgroundcolor\": \"#E5ECF6\", \"gridcolor\": \"white\", \"gridwidth\": 2, \"linecolor\": \"white\", \"showbackground\": true, \"ticks\": \"\", \"zerolinecolor\": \"white\"}, \"zaxis\": {\"backgroundcolor\": \"#E5ECF6\", \"gridcolor\": \"white\", \"gridwidth\": 2, \"linecolor\": \"white\", \"showbackground\": true, \"ticks\": \"\", \"zerolinecolor\": \"white\"}}, \"shapedefaults\": {\"line\": {\"color\": \"#2a3f5f\"}}, \"ternary\": {\"aaxis\": {\"gridcolor\": \"white\", \"linecolor\": \"white\", \"ticks\": \"\"}, \"baxis\": {\"gridcolor\": \"white\", \"linecolor\": \"white\", \"ticks\": \"\"}, \"bgcolor\": \"#E5ECF6\", \"caxis\": {\"gridcolor\": \"white\", \"linecolor\": \"white\", \"ticks\": \"\"}}, \"title\": {\"x\": 0.05}, \"xaxis\": {\"automargin\": true, \"gridcolor\": \"white\", \"linecolor\": \"white\", \"ticks\": \"\", \"title\": {\"standoff\": 15}, \"zerolinecolor\": \"white\", \"zerolinewidth\": 2}, \"yaxis\": {\"automargin\": true, \"gridcolor\": \"white\", \"linecolor\": \"white\", \"ticks\": \"\", \"title\": {\"standoff\": 15}, \"zerolinecolor\": \"white\", \"zerolinewidth\": 2}}}},                        {\"responsive\": true}                    ).then(function(){\n",
       "                            \n",
       "var gd = document.getElementById('43a82ba5-ea47-4542-910a-a527f3d0d0c1');\n",
       "var x = new MutationObserver(function (mutations, observer) {{\n",
       "        var display = window.getComputedStyle(gd).display;\n",
       "        if (!display || display === 'none') {{\n",
       "            console.log([gd, 'removed!']);\n",
       "            Plotly.purge(gd);\n",
       "            observer.disconnect();\n",
       "        }}\n",
       "}});\n",
       "\n",
       "// Listen for the removal of the full notebook cells\n",
       "var notebookContainer = gd.closest('#notebook-container');\n",
       "if (notebookContainer) {{\n",
       "    x.observe(notebookContainer, {childList: true});\n",
       "}}\n",
       "\n",
       "// Listen for the clearing of the current output cell\n",
       "var outputEl = gd.closest('.output');\n",
       "if (outputEl) {{\n",
       "    x.observe(outputEl, {childList: true});\n",
       "}}\n",
       "\n",
       "                        })                };                });            </script>        </div>"
      ]
     },
     "metadata": {},
     "output_type": "display_data"
    }
   ],
   "source": [
    "fig.update_scenes(yaxis_autorange=\"reversed\")  # fix for the mirroring\n",
    "fig.show()"
   ]
  }
 ],
 "metadata": {
  "kernelspec": {
   "display_name": "Python 3",
   "language": "python",
   "name": "python3"
  },
  "language_info": {
   "codemirror_mode": {
    "name": "ipython",
    "version": 3
   },
   "file_extension": ".py",
   "mimetype": "text/x-python",
   "name": "python",
   "nbconvert_exporter": "python",
   "pygments_lexer": "ipython3",
   "version": "3.9.1"
  }
 },
 "nbformat": 4,
 "nbformat_minor": 5
}
